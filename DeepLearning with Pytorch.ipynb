{
  "cells": [
    {
      "cell_type": "markdown",
      "metadata": {
        "id": "dDFVd-WfsEKx"
      },
      "source": [
        "# DeepLearning with Pytorch\n",
        "DataCamp Course"
      ]
    },
    {
      "cell_type": "code",
      "execution_count": 2,
      "metadata": {
        "id": "NoMYOiXusEKy"
      },
      "outputs": [],
      "source": [
        "# pip install torch\n",
        "import numpy as np\n",
        "import torch"
      ]
    },
    {
      "cell_type": "markdown",
      "metadata": {
        "id": "NyzwAgFAsrUU"
      },
      "source": [
        "## Creating tensors in PyTorch\n",
        "Random tensors are very important in neural networks. Parameters of the neural networks typically are initialized with random weights (random tensors).\n",
        "\n"
      ]
    },
    {
      "cell_type": "code",
      "execution_count": 18,
      "metadata": {},
      "outputs": [
        {
          "data": {
            "text/plain": [
              "tensor([[2, 3, 5],\n",
              "        [1, 2, 9]])"
            ]
          },
          "execution_count": 18,
          "metadata": {},
          "output_type": "execute_result"
        }
      ],
      "source": [
        "list1=[2,3,5]\n",
        "list2=[1,2,9]\n",
        "torch.tensor([list1,list2])"
      ]
    },
    {
      "cell_type": "code",
      "execution_count": 19,
      "metadata": {},
      "outputs": [
        {
          "data": {
            "text/plain": [
              "array([[2, 3, 5],\n",
              "       [1, 2, 9]])"
            ]
          },
          "execution_count": 19,
          "metadata": {},
          "output_type": "execute_result"
        }
      ],
      "source": [
        "np.array([list1,list2])"
      ]
    },
    {
      "cell_type": "code",
      "execution_count": 31,
      "metadata": {},
      "outputs": [
        {
          "data": {
            "text/plain": [
              "tensor([[2.0166, 1.7149, 2.0680, 1.8962],\n",
              "        [2.0816, 1.6449, 2.0028, 1.6407],\n",
              "        [1.3223, 1.2938, 1.4979, 1.3945],\n",
              "        [1.0873, 0.7426, 0.9934, 0.9451]])"
            ]
          },
          "execution_count": 31,
          "metadata": {},
          "output_type": "execute_result"
        }
      ],
      "source": [
        "#multiplcation with pytorch\n",
        "mat1=torch.rand(4,4)\n",
        "mat2=torch.rand(4,4)\n",
        "multmat=torch.matmul(mat1,mat2)\n",
        "multmat"
      ]
    },
    {
      "cell_type": "code",
      "execution_count": 32,
      "metadata": {},
      "outputs": [
        {
          "data": {
            "text/plain": [
              "tensor([[0.2267, 0.4928, 0.4918, 0.6619],\n",
              "        [0.0953, 0.0612, 0.2552, 0.5078],\n",
              "        [0.9405, 0.1405, 0.2718, 0.3306],\n",
              "        [0.0960, 0.7073, 0.4608, 0.1454]])"
            ]
          },
          "execution_count": 32,
          "metadata": {},
          "output_type": "execute_result"
        }
      ],
      "source": [
        "#element multiplication\n",
        "mat1 * mat2"
      ]
    },
    {
      "cell_type": "code",
      "execution_count": 33,
      "metadata": {},
      "outputs": [
        {
          "data": {
            "text/plain": [
              "array([[1.12754878, 0.85733287, 1.23747869, 1.0127282 ],\n",
              "       [1.07296251, 1.16571859, 1.19272448, 1.14941114],\n",
              "       [1.39294344, 0.83636715, 1.39027568, 1.04029302],\n",
              "       [0.9928961 , 0.31433012, 0.88691205, 0.87661795]])"
            ]
          },
          "execution_count": 33,
          "metadata": {},
          "output_type": "execute_result"
        }
      ],
      "source": [
        "#multiplication with Numpy\n",
        "mat1=np.random.rand(4,4)\n",
        "mat2=np.random.rand(4,4)\n",
        "multmat=np.dot(mat1,mat2)\n",
        "multmat"
      ]
    },
    {
      "cell_type": "code",
      "execution_count": 34,
      "metadata": {},
      "outputs": [
        {
          "data": {
            "text/plain": [
              "array([[0.27535674, 0.92081175, 0.38278094, 0.51026539],\n",
              "       [0.15748971, 0.14487037, 0.05340088, 0.03931516],\n",
              "       [0.21510058, 0.01592962, 0.13466538, 0.68922102],\n",
              "       [0.07689088, 0.03990748, 0.68427285, 0.15047132]])"
            ]
          },
          "execution_count": 34,
          "metadata": {},
          "output_type": "execute_result"
        }
      ],
      "source": [
        "#element multiplication\n",
        "np.multiply(mat1,mat2)"
      ]
    },
    {
      "cell_type": "code",
      "execution_count": 16,
      "metadata": {
        "id": "nOvj-7v_sEKz"
      },
      "outputs": [
        {
          "name": "stdout",
          "output_type": "stream",
          "text": [
            "tensor([[0.4598, 0.6097, 0.8728],\n",
            "        [0.6495, 0.0638, 0.8282],\n",
            "        [0.6361, 0.8120, 0.2330]])\n",
            "torch.Size([3, 3])\n"
          ]
        }
      ],
      "source": [
        "# Create random tensor of size 3 by 3\n",
        "your_first_tensor = torch.rand(3, 3)\n",
        "\n",
        "# Calculate the shape of the tensor\n",
        "tensor_size = your_first_tensor.shape\n",
        "\n",
        "# Print the values of the tensor and its shape\n",
        "print(your_first_tensor)\n",
        "print(tensor_size)"
      ]
    },
    {
      "cell_type": "code",
      "execution_count": 6,
      "metadata": {
        "id": "EKamNVAHtUGl"
      },
      "outputs": [
        {
          "name": "stdout",
          "output_type": "stream",
          "text": [
            "[[0.74010236 0.80915197 0.84563443]\n",
            " [0.9775519  0.93318597 0.34364613]\n",
            " [0.58134982 0.33891279 0.75384948]]\n",
            "(3, 3)\n"
          ]
        }
      ],
      "source": [
        "#same things in Numpy\n",
        "# Create random tensor of size 3 by 3\n",
        "your_first_tensor = np.random.rand(3, 3)\n",
        "\n",
        "# Calculate the shape of the tensor\n",
        "tensor_size = your_first_tensor.shape\n",
        "\n",
        "# Print the values of the tensor and its shape\n",
        "print(your_first_tensor)\n",
        "print(tensor_size)"
      ]
    },
    {
      "cell_type": "code",
      "execution_count": null,
      "metadata": {},
      "outputs": [],
      "source": [
        "# Create a matrix of ones with shape 3 by 3\n",
        "tensor_of_ones = torch.zeros(3, 3)\n",
        "\n",
        "# Create an identity matrix with shape 3 by 3\n",
        "identity_tensor = torch.eye(3)\n",
        "\n",
        "# Do a matrix multiplication of tensor_of_ones with identity_tensor\n",
        "matrices_multiplied = torch.multiply(tensor_of_ones, identity_tensor)\n",
        "print(matrices_multiplied)\n",
        "\n",
        "# Do an element-wise multiplication of tensor_of_ones with identity_tensor\n",
        "element_multiplication = torch.elem\n",
        "print(element_multiplication)"
      ]
    }
  ],
  "metadata": {
    "colab": {
      "provenance": []
    },
    "kernelspec": {
      "display_name": "py",
      "language": "python",
      "name": "python3"
    },
    "language_info": {
      "codemirror_mode": {
        "name": "ipython",
        "version": 3
      },
      "file_extension": ".py",
      "mimetype": "text/x-python",
      "name": "python",
      "nbconvert_exporter": "python",
      "pygments_lexer": "ipython3",
      "version": "3.9.15"
    },
    "orig_nbformat": 4,
    "vscode": {
      "interpreter": {
        "hash": "e5ec2996c563c234ac14e94a9194176f4b4a65942ae41358f6d1676f83052ec2"
      }
    }
  },
  "nbformat": 4,
  "nbformat_minor": 0
}
