{
  "cells": [
    {
      "cell_type": "markdown",
      "metadata": {
        "id": "dDFVd-WfsEKx"
      },
      "source": [
        "# DeepLearning with Pytorch\n",
        "DataCamp Course"
      ]
    },
    {
      "cell_type": "code",
      "execution_count": 2,
      "metadata": {
        "id": "NoMYOiXusEKy"
      },
      "outputs": [],
      "source": [
        "# pip install torch\n",
        "import numpy as np\n",
        "import torch"
      ]
    },
    {
      "cell_type": "markdown",
      "metadata": {
        "id": "NyzwAgFAsrUU"
      },
      "source": [
        "## Creating tensors in PyTorch\n",
        "Random tensors are very important in neural networks. Parameters of the neural networks typically are initialized with random weights (random tensors).\n",
        "\n"
      ]
    },
    {
      "cell_type": "code",
      "execution_count": 18,
      "metadata": {},
      "outputs": [
        {
          "data": {
            "text/plain": [
              "tensor([[2, 3, 5],\n",
              "        [1, 2, 9]])"
            ]
          },
          "execution_count": 18,
          "metadata": {},
          "output_type": "execute_result"
        }
      ],
      "source": [
        "list1=[2,3,5]\n",
        "list2=[1,2,9]\n",
        "torch.tensor([list1,list2])"
      ]
    },
    {
      "cell_type": "code",
      "execution_count": 19,
      "metadata": {},
      "outputs": [
        {
          "data": {
            "text/plain": [
              "array([[2, 3, 5],\n",
              "       [1, 2, 9]])"
            ]
          },
          "execution_count": 19,
          "metadata": {},
          "output_type": "execute_result"
        }
      ],
      "source": [
        "np.array([list1,list2])"
      ]
    },
    {
      "cell_type": "code",
      "execution_count": 31,
      "metadata": {},
      "outputs": [
        {
          "data": {
            "text/plain": [
              "tensor([[2.0166, 1.7149, 2.0680, 1.8962],\n",
              "        [2.0816, 1.6449, 2.0028, 1.6407],\n",
              "        [1.3223, 1.2938, 1.4979, 1.3945],\n",
              "        [1.0873, 0.7426, 0.9934, 0.9451]])"
            ]
          },
          "execution_count": 31,
          "metadata": {},
          "output_type": "execute_result"
        }
      ],
      "source": [
        "#multiplcation with pytorch\n",
        "mat1=torch.rand(4,4)\n",
        "mat2=torch.rand(4,4)\n",
        "multmat=torch.matmul(mat1,mat2)\n",
        "multmat"
      ]
    },
    {
      "cell_type": "code",
      "execution_count": 32,
      "metadata": {},
      "outputs": [
        {
          "data": {
            "text/plain": [
              "tensor([[0.2267, 0.4928, 0.4918, 0.6619],\n",
              "        [0.0953, 0.0612, 0.2552, 0.5078],\n",
              "        [0.9405, 0.1405, 0.2718, 0.3306],\n",
              "        [0.0960, 0.7073, 0.4608, 0.1454]])"
            ]
          },
          "execution_count": 32,
          "metadata": {},
          "output_type": "execute_result"
        }
      ],
      "source": [
        "#element multiplication\n",
        "mat1 * mat2"
      ]
    },
    {
      "cell_type": "code",
      "execution_count": 33,
      "metadata": {},
      "outputs": [
        {
          "data": {
            "text/plain": [
              "array([[1.12754878, 0.85733287, 1.23747869, 1.0127282 ],\n",
              "       [1.07296251, 1.16571859, 1.19272448, 1.14941114],\n",
              "       [1.39294344, 0.83636715, 1.39027568, 1.04029302],\n",
              "       [0.9928961 , 0.31433012, 0.88691205, 0.87661795]])"
            ]
          },
          "execution_count": 33,
          "metadata": {},
          "output_type": "execute_result"
        }
      ],
      "source": [
        "#multiplication with Numpy\n",
        "mat1=np.random.rand(4,4)\n",
        "mat2=np.random.rand(4,4)\n",
        "multmat=np.dot(mat1,mat2)\n",
        "multmat"
      ]
    },
    {
      "cell_type": "code",
      "execution_count": 34,
      "metadata": {},
      "outputs": [
        {
          "data": {
            "text/plain": [
              "array([[0.27535674, 0.92081175, 0.38278094, 0.51026539],\n",
              "       [0.15748971, 0.14487037, 0.05340088, 0.03931516],\n",
              "       [0.21510058, 0.01592962, 0.13466538, 0.68922102],\n",
              "       [0.07689088, 0.03990748, 0.68427285, 0.15047132]])"
            ]
          },
          "execution_count": 34,
          "metadata": {},
          "output_type": "execute_result"
        }
      ],
      "source": [
        "#element multiplication\n",
        "np.multiply(mat1,mat2)"
      ]
    },
    {
      "cell_type": "code",
      "execution_count": 35,
      "metadata": {},
      "outputs": [
        {
          "data": {
            "text/plain": [
              "tensor([[0., 0.],\n",
              "        [0., 0.]])"
            ]
          },
          "execution_count": 35,
          "metadata": {},
          "output_type": "execute_result"
        }
      ],
      "source": [
        "torch.zeros(2,2)"
      ]
    },
    {
      "cell_type": "code",
      "execution_count": 37,
      "metadata": {},
      "outputs": [
        {
          "data": {
            "text/plain": [
              "tensor([[1., 1.],\n",
              "        [1., 1.]])"
            ]
          },
          "execution_count": 37,
          "metadata": {},
          "output_type": "execute_result"
        }
      ],
      "source": [
        "torch.ones(2,2)"
      ]
    },
    {
      "cell_type": "code",
      "execution_count": 38,
      "metadata": {},
      "outputs": [
        {
          "data": {
            "text/plain": [
              "tensor([[1., 0.],\n",
              "        [0., 1.]])"
            ]
          },
          "execution_count": 38,
          "metadata": {},
          "output_type": "execute_result"
        }
      ],
      "source": [
        "torch.eye(2,2)"
      ]
    },
    {
      "cell_type": "code",
      "execution_count": 40,
      "metadata": {},
      "outputs": [
        {
          "data": {
            "text/plain": [
              "array([[0., 0.],\n",
              "       [0., 0.]])"
            ]
          },
          "execution_count": 40,
          "metadata": {},
          "output_type": "execute_result"
        }
      ],
      "source": [
        "np.zeros((2,2))"
      ]
    },
    {
      "cell_type": "code",
      "execution_count": 42,
      "metadata": {},
      "outputs": [
        {
          "data": {
            "text/plain": [
              "array([[1., 1.],\n",
              "       [1., 1.]])"
            ]
          },
          "execution_count": 42,
          "metadata": {},
          "output_type": "execute_result"
        }
      ],
      "source": [
        "np.ones((2,2))"
      ]
    },
    {
      "cell_type": "code",
      "execution_count": 43,
      "metadata": {},
      "outputs": [
        {
          "data": {
            "text/plain": [
              "array([[1., 0.],\n",
              "       [0., 1.]])"
            ]
          },
          "execution_count": 43,
          "metadata": {},
          "output_type": "execute_result"
        }
      ],
      "source": [
        "np.identity(2)"
      ]
    },
    {
      "cell_type": "code",
      "execution_count": 45,
      "metadata": {},
      "outputs": [
        {
          "data": {
            "text/plain": [
              "tensor([[1., 0.],\n",
              "        [0., 1.]], dtype=torch.float64)"
            ]
          },
          "execution_count": 45,
          "metadata": {},
          "output_type": "execute_result"
        }
      ],
      "source": [
        "torch.from_numpy(np.identity(2))"
      ]
    },
    {
      "cell_type": "code",
      "execution_count": 47,
      "metadata": {},
      "outputs": [
        {
          "data": {
            "text/plain": [
              "array([[1., 0.],\n",
              "       [0., 1.]], dtype=float32)"
            ]
          },
          "execution_count": 47,
          "metadata": {},
          "output_type": "execute_result"
        }
      ],
      "source": [
        "torch.eye(2,2).numpy()"
      ]
    },
    {
      "cell_type": "code",
      "execution_count": 16,
      "metadata": {
        "id": "nOvj-7v_sEKz"
      },
      "outputs": [
        {
          "name": "stdout",
          "output_type": "stream",
          "text": [
            "tensor([[0.4598, 0.6097, 0.8728],\n",
            "        [0.6495, 0.0638, 0.8282],\n",
            "        [0.6361, 0.8120, 0.2330]])\n",
            "torch.Size([3, 3])\n"
          ]
        }
      ],
      "source": [
        "# Create random tensor of size 3 by 3\n",
        "your_first_tensor = torch.rand(3, 3)\n",
        "\n",
        "# Calculate the shape of the tensor\n",
        "tensor_size = your_first_tensor.shape\n",
        "\n",
        "# Print the values of the tensor and its shape\n",
        "print(your_first_tensor)\n",
        "print(tensor_size)"
      ]
    },
    {
      "cell_type": "code",
      "execution_count": 6,
      "metadata": {
        "id": "EKamNVAHtUGl"
      },
      "outputs": [
        {
          "name": "stdout",
          "output_type": "stream",
          "text": [
            "[[0.74010236 0.80915197 0.84563443]\n",
            " [0.9775519  0.93318597 0.34364613]\n",
            " [0.58134982 0.33891279 0.75384948]]\n",
            "(3, 3)\n"
          ]
        }
      ],
      "source": [
        "#same things in Numpy\n",
        "# Create random tensor of size 3 by 3\n",
        "your_first_tensor = np.random.rand(3, 3)\n",
        "\n",
        "# Calculate the shape of the tensor\n",
        "tensor_size = your_first_tensor.shape\n",
        "\n",
        "# Print the values of the tensor and its shape\n",
        "print(your_first_tensor)\n",
        "print(tensor_size)"
      ]
    },
    {
      "cell_type": "code",
      "execution_count": 49,
      "metadata": {},
      "outputs": [
        {
          "name": "stdout",
          "output_type": "stream",
          "text": [
            "tensor([[1., 1., 1.],\n",
            "        [1., 1., 1.],\n",
            "        [1., 1., 1.]])\n",
            "tensor([[1., 0., 0.],\n",
            "        [0., 1., 0.],\n",
            "        [0., 0., 1.]])\n"
          ]
        }
      ],
      "source": [
        "# Create a matrix of ones with shape 3 by 3\n",
        "tensor_of_ones = torch.ones(3, 3)\n",
        "\n",
        "# Create an identity matrix with shape 3 by 3\n",
        "identity_tensor = torch.eye(3)\n",
        "\n",
        "# Do a matrix multiplication of tensor_of_ones with identity_tensor\n",
        "matrices_multiplied = torch.matmul(tensor_of_ones, identity_tensor)\n",
        "print(matrices_multiplied)\n",
        "\n",
        "# Do an element-wise multiplication of tensor_of_ones with identity_tensor\n",
        "element_multiplication = tensor_of_ones*identity_tensor\n",
        "print(element_multiplication)"
      ]
    },
    {
      "attachments": {},
      "cell_type": "markdown",
      "metadata": {},
      "source": [
        "## Forward pass\n",
        "Let's have something resembling more a neural network. The computational graph has been given below. You are going to initialize 3 large random tensors, and then do the operations as given in the computational graph. The final operation is the mean of the tensor, given by torch.mean(your_tensor)."
      ]
    },
    {
      "cell_type": "code",
      "execution_count": 50,
      "metadata": {},
      "outputs": [
        {
          "name": "stdout",
          "output_type": "stream",
          "text": [
            "tensor(124903.4922)\n"
          ]
        }
      ],
      "source": [
        "# Initialize tensors x, y and z\n",
        "x = torch.rand(1000, 1000)\n",
        "y = torch.rand(1000, 1000)\n",
        "z = torch.rand(1000, 1000)\n",
        "\n",
        "# Multiply x with y\n",
        "q = torch.matmul(x,y)\n",
        "\n",
        "# Multiply elementwise z with q\n",
        "f = torch.matmul(z,q)\n",
        "\n",
        "mean_f = torch.mean(f)\n",
        "print(mean_f)"
      ]
    },
    {
      "attachments": {},
      "cell_type": "markdown",
      "metadata": {},
      "source": [
        "## Backpropagation using PyTorch\n",
        "Here, you are going to use automatic differentiation of PyTorch in order to compute the derivatives of x, y and z from the previous exercise."
      ]
    },
    {
      "cell_type": "code",
      "execution_count": 54,
      "metadata": {},
      "outputs": [
        {
          "name": "stdout",
          "output_type": "stream",
          "text": [
            "Gradient of x is: tensor([5.])\n",
            "Gradient of y is: tensor([5.])\n",
            "Gradient of z is: tensor([1.])\n"
          ]
        }
      ],
      "source": [
        "# Initialize x, y and z to values 4, -3 and 5\n",
        "x = torch.tensor([4.], requires_grad=True)\n",
        "y = torch.tensor([-3.], requires_grad=True)\n",
        "z = torch.tensor([5.],requires_grad=True)\n",
        "\n",
        "# Set q to sum of x and y, set f to product of q with z\n",
        "q = x+y\n",
        "f = z*q\n",
        "\n",
        "# Compute the derivatives\n",
        "f.backward()\n",
        "\n",
        "# Print the gradients\n",
        "print(\"Gradient of x is: \" + str(x.grad))\n",
        "print(\"Gradient of y is: \" + str(y.grad))\n",
        "print(\"Gradient of z is: \" + str(z.grad))"
      ]
    },
    {
      "cell_type": "code",
      "execution_count": 58,
      "metadata": {},
      "outputs": [
        {
          "name": "stdout",
          "output_type": "stream",
          "text": [
            "Gradient of x is: tensor([[0.0369, 0.0832, 0.0617, 0.0362, 0.0575],\n",
            "        [0.0272, 0.0662, 0.0526, 0.0201, 0.0468],\n",
            "        [0.0314, 0.0524, 0.0506, 0.0233, 0.0362],\n",
            "        [0.0404, 0.0694, 0.0546, 0.0346, 0.0411],\n",
            "        [0.0502, 0.0981, 0.0724, 0.0492, 0.0614]])\n",
            "Gradient of y is: tensor([[0.0146, 0.0329, 0.0225, 0.0174, 0.0582],\n",
            "        [0.0340, 0.0607, 0.0403, 0.0430, 0.0698],\n",
            "        [0.0208, 0.0590, 0.0275, 0.0396, 0.0709],\n",
            "        [0.0297, 0.0624, 0.0313, 0.0420, 0.0726],\n",
            "        [0.0361, 0.0546, 0.0356, 0.0344, 0.0568]])\n",
            "Gradient of z is: tensor([[0.0513, 0.0290, 0.0379, 0.0631, 0.0400],\n",
            "        [0.0727, 0.0228, 0.0439, 0.0709, 0.0547],\n",
            "        [0.0512, 0.0315, 0.0299, 0.0658, 0.0479],\n",
            "        [0.0463, 0.0299, 0.0333, 0.0766, 0.0508],\n",
            "        [0.0452, 0.0268, 0.0206, 0.0545, 0.0501]])\n"
          ]
        },
        {
          "name": "stderr",
          "output_type": "stream",
          "text": [
            "/var/folders/vv/qbkrt9vj4_j3xx714txsmc900000gn/T/ipykernel_35770/1950033724.py:1: UserWarning: To copy construct from a tensor, it is recommended to use sourceTensor.clone().detach() or sourceTensor.clone().detach().requires_grad_(True), rather than torch.tensor(sourceTensor).\n",
            "  x = torch.tensor(torch.rand(5,5).requires_grad_(True), requires_grad=True)\n",
            "/var/folders/vv/qbkrt9vj4_j3xx714txsmc900000gn/T/ipykernel_35770/1950033724.py:2: UserWarning: To copy construct from a tensor, it is recommended to use sourceTensor.clone().detach() or sourceTensor.clone().detach().requires_grad_(True), rather than torch.tensor(sourceTensor).\n",
            "  y = torch.tensor(torch.rand(5,5).requires_grad_(True), requires_grad=True)\n",
            "/var/folders/vv/qbkrt9vj4_j3xx714txsmc900000gn/T/ipykernel_35770/1950033724.py:3: UserWarning: To copy construct from a tensor, it is recommended to use sourceTensor.clone().detach() or sourceTensor.clone().detach().requires_grad_(True), rather than torch.tensor(sourceTensor).\n",
            "  z = torch.tensor(torch.rand(5,5).requires_grad_(True),requires_grad=True)\n"
          ]
        }
      ],
      "source": [
        "x = torch.tensor(torch.rand(5,5).requires_grad_(True), requires_grad=True)\n",
        "y = torch.tensor(torch.rand(5,5).requires_grad_(True), requires_grad=True)\n",
        "z = torch.tensor(torch.rand(5,5).requires_grad_(True),requires_grad=True)\n",
        "\n",
        "# Multiply tensors x and y\n",
        "q = torch.matmul(x,y)\n",
        "\n",
        "# Elementwise multiply tensors z with q\n",
        "f = z*q\n",
        "\n",
        "mean_f = torch.mean(f)\n",
        "\n",
        "# Calculate the gradients\n",
        "mean_f.backward(\n",
        ")\n",
        "print(\"Gradient of x is: \" + str(x.grad))\n",
        "print(\"Gradient of y is: \" + str(y.grad))\n",
        "print(\"Gradient of z is: \" + str(z.grad))"
      ]
    },
    {
      "cell_type": "code",
      "execution_count": 59,
      "metadata": {},
      "outputs": [
        {
          "name": "stdout",
          "output_type": "stream",
          "text": [
            "Gradient of x is: tensor([[0.0755, 0.0561, 0.0606, 0.0362, 0.0649],\n",
            "        [0.0520, 0.0480, 0.0531, 0.0306, 0.0609],\n",
            "        [0.0453, 0.0250, 0.0357, 0.0294, 0.0422],\n",
            "        [0.0562, 0.0487, 0.0378, 0.0312, 0.0575],\n",
            "        [0.0488, 0.0342, 0.0329, 0.0309, 0.0491]])\n",
            "Gradient of y is: tensor([[0.0464, 0.0463, 0.0470, 0.0182, 0.0586],\n",
            "        [0.0421, 0.0675, 0.0426, 0.0236, 0.0686],\n",
            "        [0.0525, 0.0474, 0.0281, 0.0176, 0.0616],\n",
            "        [0.0366, 0.0522, 0.0339, 0.0172, 0.0556],\n",
            "        [0.0630, 0.0646, 0.0550, 0.0230, 0.0798]])\n",
            "Gradient of z is: tensor([[0.0466, 0.0629, 0.0400, 0.0655, 0.0406],\n",
            "        [0.0329, 0.0615, 0.0350, 0.0400, 0.0466],\n",
            "        [0.0416, 0.0694, 0.0289, 0.0455, 0.0471],\n",
            "        [0.0391, 0.0600, 0.0481, 0.0740, 0.0505],\n",
            "        [0.0298, 0.0435, 0.0390, 0.0342, 0.0268]])\n"
          ]
        }
      ],
      "source": [
        "x = torch.rand(5,5).clone().detach().requires_grad_(True)\n",
        "y = torch.rand(5,5).clone().detach().requires_grad_(True)\n",
        "z = torch.rand(5,5).clone().detach().requires_grad_(True)\n",
        "\n",
        "# Multiply tensors x and y\n",
        "q = torch.matmul(x,y)\n",
        "\n",
        "# Elementwise multiply tensors z with q\n",
        "f = z*q\n",
        "\n",
        "mean_f = torch.mean(f)\n",
        "\n",
        "# Calculate the gradients\n",
        "mean_f.backward(\n",
        ")\n",
        "print(\"Gradient of x is: \" + str(x.grad))\n",
        "print(\"Gradient of y is: \" + str(y.grad))\n",
        "print(\"Gradient of z is: \" + str(z.grad))"
      ]
    },
    {
      "cell_type": "code",
      "execution_count": null,
      "metadata": {},
      "outputs": [],
      "source": []
    }
  ],
  "metadata": {
    "colab": {
      "provenance": []
    },
    "kernelspec": {
      "display_name": "py",
      "language": "python",
      "name": "python3"
    },
    "language_info": {
      "codemirror_mode": {
        "name": "ipython",
        "version": 3
      },
      "file_extension": ".py",
      "mimetype": "text/x-python",
      "name": "python",
      "nbconvert_exporter": "python",
      "pygments_lexer": "ipython3",
      "version": "3.9.15"
    },
    "orig_nbformat": 4,
    "vscode": {
      "interpreter": {
        "hash": "e5ec2996c563c234ac14e94a9194176f4b4a65942ae41358f6d1676f83052ec2"
      }
    }
  },
  "nbformat": 4,
  "nbformat_minor": 0
}
