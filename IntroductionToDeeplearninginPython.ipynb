{
  "cells": [
    {
      "cell_type": "markdown",
      "metadata": {
        "id": "tHlckzLZkyqx"
      },
      "source": [
        "# Introduction to Deep Learning in Python\n"
      ]
    },
    {
      "cell_type": "markdown",
      "metadata": {
        "id": "q8beLx4Akyqy"
      },
      "source": [
        "## Basics of deep learning and neural networks"
      ]
    },
    {
      "cell_type": "code",
      "execution_count": 1,
      "metadata": {
        "id": "_9VGxUtikyqy"
      },
      "outputs": [],
      "source": [
        "import numpy as np\n",
        "import matplotlib.pyplot as plt"
      ]
    },
    {
      "cell_type": "code",
      "execution_count": 2,
      "metadata": {
        "colab": {
          "base_uri": "https://localhost:8080/"
        },
        "id": "_DFiNqgWkyqy",
        "outputId": "a254ab67-c8b5-4fab-9c47-77893e2e9133"
      },
      "outputs": [
        {
          "output_type": "stream",
          "name": "stdout",
          "text": [
            "[5 1] 9\n"
          ]
        }
      ],
      "source": [
        "input_data = np.array([2,3])\n",
        "weights = {'node_0': np.array([1,1]),\n",
        "            'node_1': np.array([-1,1]),\n",
        "            'output': np.array([2,-1])}\n",
        "node_0_value = (input_data * weights['node_0']).sum()\n",
        "node_1_value = (input_data * weights['node_1']).sum()\n",
        "hidden_layer_values = np.array([node_0_value, node_1_value])\n",
        "output = (hidden_layer_values * weights['output']).sum()\n",
        "print(hidden_layer_values,output)"
      ]
    },
    {
      "cell_type": "markdown",
      "metadata": {
        "id": "rYuwia9xkyqz"
      },
      "source": [
        "### Coding the forward propagation algorithm\n",
        "In this exercise, you'll write code to do forward propagation (prediction) for your first neural network:<br>\n",
        "<img src=\"https://assets.datacamp.com/production/course_3524/datasets/1_4.png\"><br><br>\n",
        "Each data point is a customer. The first input is how many accounts they have, and the second input is how many children they have. The model will predict how many transactions the user makes in the next year. You will use this data throughout the first 2 chapters of this course.<br>\n",
        "\n",
        "The input data has been pre-loaded as input_data, and the weights are available in a dictionary called weights. The array of weights for the first node in the hidden layer are in weights['node_0'], and the array of weights for the second node in the hidden layer are in weights['node_1'].<br>\n",
        "\n",
        "The weights feeding into the output node are available in weights['output'].<br>\n",
        "\n",
        "NumPy will be pre-imported for you as np in all exercises."
      ]
    },
    {
      "cell_type": "code",
      "execution_count": 3,
      "metadata": {
        "id": "_bpTI02skyqz"
      },
      "outputs": [],
      "source": [
        "input_data = np.array([3, 5])\n",
        "weights = {'node_0':np.array([2, 4]), 'node_1': np.array([ 4, -5]), 'output': np.array([2, 7])}"
      ]
    },
    {
      "cell_type": "code",
      "execution_count": 4,
      "metadata": {
        "colab": {
          "base_uri": "https://localhost:8080/"
        },
        "id": "UJQ_C1Eqkyqz",
        "outputId": "62ad1e62-cc7d-48a7-eb59-4ffb1fe64a07"
      },
      "outputs": [
        {
          "output_type": "stream",
          "name": "stdout",
          "text": [
            "-39\n"
          ]
        }
      ],
      "source": [
        "# Calculate node 0 value: node_0_value\n",
        "node_0_value = (input_data * weights['node_0']).sum()\n",
        "\n",
        "# Calculate node 1 value: node_1_value\n",
        "node_1_value = (input_data * weights['node_1']).sum()\n",
        "\n",
        "# Put node values into array: hidden_layer_outputs\n",
        "hidden_layer_outputs = np.array([node_0_value, node_1_value])\n",
        "\n",
        "# Calculate output: output\n",
        "output = (hidden_layer_outputs * weights['output']).sum()\n",
        "\n",
        "# Print output\n",
        "print(output)"
      ]
    },
    {
      "cell_type": "markdown",
      "metadata": {
        "id": "C4UwqUq_kyqz"
      },
      "source": [
        "### Activation functions"
      ]
    },
    {
      "cell_type": "markdown",
      "metadata": {
        "id": "nebJLnmokyqz"
      },
      "source": [
        "#### ReLU Rectified Linear Activation\n",
        "\n",
        "$$\n",
        "\n",
        "\\begin{equation}\n",
        "  RELU(x) =\n",
        "    \\begin{cases}\n",
        "      0 & \\text{if x < 0}\\\\\n",
        "      1 & \\text{if x <= 0}\n",
        "    \\end{cases}       \n",
        "\\end{equation}\n",
        "\n",
        "$$"
      ]
    },
    {
      "cell_type": "code",
      "execution_count": 5,
      "metadata": {
        "id": "myobbS7ykyq0"
      },
      "outputs": [],
      "source": [
        "input_data = np.array([3, 5])\n",
        "weights = {'node_0': np.array([2, 4]), 'node_1': np.array([ 4, -5]), 'output': np.array([2, 7])}\n"
      ]
    },
    {
      "cell_type": "code",
      "execution_count": 6,
      "metadata": {
        "colab": {
          "base_uri": "https://localhost:8080/"
        },
        "id": "pk9857yskyq0",
        "outputId": "6ab092f0-6c23-443f-a453-4d526ecd5ac7"
      },
      "outputs": [
        {
          "output_type": "stream",
          "name": "stdout",
          "text": [
            "52\n"
          ]
        }
      ],
      "source": [
        "def relu(input):\n",
        "    '''Define your relu activation function here'''\n",
        "    # Calculate the value for the output of the relu function: output\n",
        "    output = max(input, 0)\n",
        "    \n",
        "    # Return the value just calculated\n",
        "    return(output)\n",
        "\n",
        "# Calculate node 0 value: node_0_output\n",
        "node_0_input = (input_data * weights['node_0']).sum()\n",
        "node_0_output = relu(node_0_input)\n",
        "\n",
        "# Calculate node 1 value: node_1_output\n",
        "node_1_input = (input_data * weights['node_1']).sum()\n",
        "node_1_output = relu(node_1_input)\n",
        "\n",
        "# Put node values into array: hidden_layer_outputs\n",
        "hidden_layer_outputs = np.array([node_0_output, node_1_output])\n",
        "\n",
        "# Calculate model output (do not apply relu)\n",
        "model_output = (hidden_layer_outputs * weights['output']).sum()\n",
        "\n",
        "# Print model output\n",
        "print(model_output)"
      ]
    },
    {
      "cell_type": "code",
      "execution_count": 7,
      "metadata": {
        "id": "WDTc6L3ikyq0"
      },
      "outputs": [],
      "source": [
        "input_data = [np.array([3, 5]), np.array([ 1, -1]), np.array([0, 0]), np.array([8, 4])]\n",
        "weights = {'node_0': np.array([2, 4]), 'node_1': np.array([ 4, -5]), 'output': np.array([2, 7])}\n",
        "def relu(input):\n",
        "    '''Define your relu activation function here'''\n",
        "    # Calculate the value for the output of the relu function: output\n",
        "    output = max(input, 0)\n",
        "    \n",
        "    # Return the value just calculated\n",
        "    return(output)"
      ]
    },
    {
      "cell_type": "code",
      "execution_count": 8,
      "metadata": {
        "colab": {
          "base_uri": "https://localhost:8080/"
        },
        "id": "FaeAOykskyq0",
        "outputId": "3c23514e-0f64-4c6f-8838-7dbce194fff9"
      },
      "outputs": [
        {
          "output_type": "stream",
          "name": "stdout",
          "text": [
            "[52, 63, 0, 148]\n"
          ]
        }
      ],
      "source": [
        "# Define predict_with_network()\n",
        "def predict_with_network(input_data_row, weights):\n",
        "\n",
        "    # Calculate node 0 value\n",
        "    node_0_input = (input_data_row * weights['node_0']).sum()\n",
        "    node_0_output = relu(node_0_input)\n",
        "\n",
        "    # Calculate node 1 value\n",
        "    node_1_input = (input_data_row * weights['node_1']).sum()\n",
        "    node_1_output = relu(node_1_input)\n",
        "\n",
        "    # Put node values into array: hidden_layer_outputs\n",
        "    hidden_layer_outputs = np.array([node_0_output, node_1_output])\n",
        "    \n",
        "    # Calculate model output\n",
        "    input_to_final_layer = (hidden_layer_outputs * weights['output']).sum()\n",
        "    model_output = relu(input_to_final_layer)\n",
        "    \n",
        "    # Return model output\n",
        "    return(model_output)\n",
        "\n",
        "# Create empty list to store prediction results\n",
        "results = []\n",
        "for input_data_row in input_data:\n",
        "    # Append prediction to results\n",
        "    results.append(predict_with_network(input_data_row,weights))\n",
        "\n",
        "# Print results\n",
        "print(results)     "
      ]
    },
    {
      "cell_type": "markdown",
      "metadata": {
        "id": "cx4qo_K0kyq0"
      },
      "source": [
        "### Deeper networks"
      ]
    },
    {
      "cell_type": "code",
      "execution_count": 9,
      "metadata": {
        "id": "bO2bk2uQkyq0"
      },
      "outputs": [],
      "source": [
        "input_data = np.array([3, 5])\n",
        "weights = {'node_0_0': np.array([2, 4]),\n",
        "            'node_0_1': np.array([ 4, -5]),\n",
        "            'node_1_0': np.array([-1,  2]),\n",
        "            'node_1_1': np.array([1, 2]),\n",
        "            'output': np.array([2, 7])}\n",
        "            "
      ]
    },
    {
      "cell_type": "code",
      "execution_count": 10,
      "metadata": {
        "colab": {
          "base_uri": "https://localhost:8080/"
        },
        "id": "S_9k5Uk_kyq0",
        "outputId": "1633354a-3915-4896-f153-89cdf0feb6fa"
      },
      "outputs": [
        {
          "output_type": "stream",
          "name": "stdout",
          "text": [
            "182\n"
          ]
        }
      ],
      "source": [
        "def predict_with_network(input_data):\n",
        "    # Calculate node 0 in the first hidden layer\n",
        "    node_0_0_input = (input_data * weights['node_0_0']).sum()\n",
        "    node_0_0_output = relu(node_0_0_input)\n",
        "\n",
        "    # Calculate node 1 in the first hidden layer\n",
        "    node_0_1_input = (input_data * weights['node_0_1']).sum()\n",
        "    node_0_1_output = relu(node_0_1_input)\n",
        "\n",
        "    # Put node values into array: hidden_0_outputs\n",
        "    hidden_0_outputs = np.array([node_0_0_output, node_0_1_output])\n",
        "    \n",
        "    # Calculate node 0 in the second hidden layer\n",
        "    node_1_0_input = (hidden_0_outputs * weights['node_1_0']).sum()\n",
        "    node_1_0_output = relu(node_1_0_input)\n",
        "\n",
        "    # Calculate node 1 in the second hidden layer\n",
        "    node_1_1_input = (hidden_0_outputs * weights['node_1_1']).sum()\n",
        "    node_1_1_output = relu(node_1_1_input)\n",
        "\n",
        "    # Put node values into array: hidden_1_outputs\n",
        "    hidden_1_outputs = np.array([node_1_0_output, node_1_1_output])\n",
        "\n",
        "    # Calculate model output: model_output\n",
        "    model_output = relu((hidden_1_outputs * weights['output']).sum())\n",
        "    \n",
        "    # Return model_output\n",
        "    return(model_output)\n",
        "\n",
        "output = predict_with_network(input_data)\n",
        "print(output)"
      ]
    },
    {
      "cell_type": "markdown",
      "metadata": {
        "id": "RIU2Xd1kkyq1"
      },
      "source": [
        "### The need for optimization"
      ]
    },
    {
      "cell_type": "code",
      "execution_count": 11,
      "metadata": {
        "id": "MZm_2Dkjkyq1"
      },
      "outputs": [],
      "source": [
        "# Define predict_with_network()\n",
        "def predict_with_network(input_data_row, weights):\n",
        "\n",
        "    # Calculate node 0 value\n",
        "    node_0_input = (input_data_row * weights['node_0']).sum()\n",
        "    node_0_output = relu(node_0_input)\n",
        "\n",
        "    # Calculate node 1 value\n",
        "    node_1_input = (input_data_row * weights['node_1']).sum()\n",
        "    node_1_output = relu(node_1_input)\n",
        "\n",
        "    # Put node values into array: hidden_layer_outputs\n",
        "    hidden_layer_outputs = np.array([node_0_output, node_1_output])\n",
        "    \n",
        "    # Calculate model output\n",
        "    input_to_final_layer = (hidden_layer_outputs * weights['output']).sum()\n",
        "    model_output = relu(input_to_final_layer)\n",
        "    \n",
        "    # Return model output\n",
        "    return(model_output)"
      ]
    },
    {
      "cell_type": "code",
      "execution_count": 12,
      "metadata": {
        "colab": {
          "base_uri": "https://localhost:8080/"
        },
        "id": "gN3zGFWDkyq1",
        "outputId": "e3df1398-f3de-4a2d-be4d-1850b3d95bb8"
      },
      "outputs": [
        {
          "output_type": "stream",
          "name": "stdout",
          "text": [
            "6\n",
            "0\n"
          ]
        }
      ],
      "source": [
        "# The data point you will make a prediction for\n",
        "input_data = np.array([0, 3])\n",
        "\n",
        "# Sample weights\n",
        "weights_0 = {'node_0': [2, 1],\n",
        "             'node_1': [1, 2],\n",
        "             'output': [1, 1]\n",
        "            }\n",
        "\n",
        "# The actual target value, used to calculate the error\n",
        "target_actual = 3\n",
        "\n",
        "# Make prediction using original weights\n",
        "model_output_0 = predict_with_network(input_data, weights_0)\n",
        "\n",
        "# Calculate error: error_0\n",
        "error_0 = model_output_0 - target_actual\n",
        "\n",
        "# Create weights that cause the network to make perfect prediction (3): weights_1\n",
        "weights_1 = {'node_0': [2, 1],\n",
        "             'node_1': [1, 0],\n",
        "             'output': [1, 1]\n",
        "            }\n",
        "\n",
        "# Make prediction using new weights: model_output_1\n",
        "model_output_1 = predict_with_network(input_data, weights_1)\n",
        "\n",
        "# Calculate error: error_1\n",
        "error_1 = model_output_1 - target_actual\n",
        "\n",
        "# Print error_0 and error_1\n",
        "print(error_0)\n",
        "print(error_1)"
      ]
    },
    {
      "cell_type": "code",
      "execution_count": 13,
      "metadata": {
        "id": "nDRGmFg_kyq1"
      },
      "outputs": [],
      "source": [
        "input_data = [np.array([0, 3]), np.array([1, 2]), np.array([-1, -2]), np.array([4, 0])]\n",
        "weights_0 = {'node_0': np.array([2, 1]), 'node_1': np.array([1, 2]), 'output': np.array([1, 1])}\n",
        "weights_1 = {'node_0': np.array([2, 1]), 'node_1': np.array([1. , 1.5]), 'output': np.array([1. , 1.5])}\n",
        "target_actuals = [1, 3, 5, 7]"
      ]
    },
    {
      "cell_type": "code",
      "execution_count": 14,
      "metadata": {
        "colab": {
          "base_uri": "https://localhost:8080/"
        },
        "id": "OB6rXFHVkyq1",
        "outputId": "fd4c7a82-d6df-48ad-e126-af24a0130066"
      },
      "outputs": [
        {
          "output_type": "stream",
          "name": "stdout",
          "text": [
            "Mean squared error with weights_0: 37.500000\n",
            "Mean squared error with weights_1: 49.890625\n"
          ]
        }
      ],
      "source": [
        "#pip install -U scikit-learn\n",
        "from sklearn.metrics import mean_squared_error\n",
        "\n",
        "# Create model_output_0 \n",
        "model_output_0 = []\n",
        "# Create model_output_1\n",
        "model_output_1 = []\n",
        "\n",
        "# Loop over input_data\n",
        "for row in input_data:\n",
        "    # Append prediction to model_output_0\n",
        "    model_output_0.append(predict_with_network(row,weights_0))\n",
        "    \n",
        "    # Append prediction to model_output_1\n",
        "    model_output_1.append(predict_with_network(row,weights_1))\n",
        "\n",
        "# Calculate the mean squared error for model_output_0: mse_0\n",
        "mse_0 = mean_squared_error(target_actuals,model_output_0)\n",
        "\n",
        "# Calculate the mean squared error for model_output_1: mse_1\n",
        "mse_1 = mean_squared_error(target_actuals,model_output_1)\n",
        "\n",
        "# Print mse_0 and mse_1\n",
        "print(\"Mean squared error with weights_0: %f\" %mse_0)\n",
        "print(\"Mean squared error with weights_1: %f\" %mse_1)"
      ]
    },
    {
      "cell_type": "markdown",
      "metadata": {
        "id": "0Qo3RVklkyq1"
      },
      "source": [
        "### Gradient descent"
      ]
    },
    {
      "cell_type": "code",
      "execution_count": 15,
      "metadata": {
        "colab": {
          "base_uri": "https://localhost:8080/"
        },
        "id": "WZZ2sZ9ukyq1",
        "outputId": "8037e587-fe05-43ce-f671-55b71f281816"
      },
      "outputs": [
        {
          "output_type": "stream",
          "name": "stdout",
          "text": [
            "[14 28 42]\n"
          ]
        }
      ],
      "source": [
        "weights = np.array([0, 2, 1])\n",
        "input_data = np.array([1, 2, 3])\n",
        "target = 0\n",
        "# Calculate the predictions: preds\n",
        "preds = (weights * input_data).sum()\n",
        "\n",
        "# Calculate the error: error\n",
        "error = preds - target\n",
        "\n",
        "# Calculate the slope: slope\n",
        "slope = 2 * input_data * error\n",
        "\n",
        "# Print the slope\n",
        "print(slope)"
      ]
    },
    {
      "cell_type": "code",
      "execution_count": 16,
      "metadata": {
        "colab": {
          "base_uri": "https://localhost:8080/"
        },
        "id": "IlG0nsQYkyq1",
        "outputId": "a6a6239b-48cf-48b6-ded6-9fa9dd07bb6c"
      },
      "outputs": [
        {
          "output_type": "stream",
          "name": "stdout",
          "text": [
            "7\n",
            "5.04\n"
          ]
        }
      ],
      "source": [
        "# Set the learning rate: learning_rate\n",
        "learning_rate = 0.01\n",
        "\n",
        "# Calculate the predictions: preds\n",
        "preds = (weights * input_data).sum()\n",
        "\n",
        "# Calculate the error: error\n",
        "error = preds - target\n",
        "\n",
        "# Calculate the slope: slope\n",
        "slope = 2 * input_data * error\n",
        "\n",
        "# Update the weights: weights_updated\n",
        "weights_updated = weights - (learning_rate * slope) \n",
        "\n",
        "# Get updated predictions: preds_updated\n",
        "preds_updated = (weights_updated * input_data).sum()\n",
        "\n",
        "# Calculate updated error: error_updated\n",
        "error_updated = preds_updated - target\n",
        "\n",
        "# Print the original error\n",
        "print(error)\n",
        "\n",
        "# Print the updated error\n",
        "print(error_updated)"
      ]
    },
    {
      "cell_type": "code",
      "execution_count": 17,
      "metadata": {
        "id": "C_DDHhU0kyq1"
      },
      "outputs": [],
      "source": [
        "def get_slope(input_data, target,weights):\n",
        "    preds = (weights * input_data).sum()\n",
        "    error = preds - target\n",
        "    return 2 * input_data * error "
      ]
    },
    {
      "cell_type": "code",
      "execution_count": 18,
      "metadata": {
        "id": "dirR8mqGkyq2"
      },
      "outputs": [],
      "source": [
        "def get_mse(input_data, target,weights):\n",
        "    preds = (weights * input_data).sum()\n",
        "    error_2 = preds - target\n",
        "    #x=((error_2+error)/2)^0.5\n",
        "    return error_2"
      ]
    },
    {
      "cell_type": "code",
      "execution_count": 19,
      "metadata": {
        "colab": {
          "base_uri": "https://localhost:8080/",
          "height": 279
        },
        "id": "HroSBhC-kyq2",
        "outputId": "8fdfe61c-9fc4-4e5d-e65b-967f1c6c8c69"
      },
      "outputs": [
        {
          "output_type": "display_data",
          "data": {
            "text/plain": [
              "<Figure size 432x288 with 1 Axes>"
            ],
            "image/png": "[encoded data removed]"
          },
          "metadata": {
            "needs_background": "light"
          }
        }
      ],
      "source": [
        "n_updates = 20\n",
        "mse_hist = []\n",
        "\n",
        "# Iterate over the number of updates\n",
        "for i in range(n_updates):\n",
        "    # Calculate the slope: slope\n",
        "    slope = get_slope(input_data,  target,weights)\n",
        "    \n",
        "    # Update the weights: weights\n",
        "    weights = weights - slope * 0.01\n",
        "    \n",
        "    # Calculate mse with new weights: mse\n",
        "    mse = get_mse(input_data, target,weights)\n",
        "    \n",
        "    # Append the mse to mse_hist\n",
        "    mse_hist.append(mse)\n",
        "\n",
        "# Plot the mse history\n",
        "plt.plot(mse_hist)\n",
        "plt.xlabel('Iterations')\n",
        "plt.ylabel('Mean Squared Error')\n",
        "plt.show()"
      ]
    },
    {
      "cell_type": "markdown",
      "metadata": {
        "id": "6YZcaSkFkyq2"
      },
      "source": [
        "## Backpropagation"
      ]
    },
    {
      "cell_type": "code",
      "execution_count": 20,
      "metadata": {
        "colab": {
          "base_uri": "https://localhost:8080/"
        },
        "id": "0Hx-7afVkyq2",
        "outputId": "3108276a-6974-43b0-ec81-3aea0576fe47"
      },
      "outputs": [
        {
          "output_type": "execute_result",
          "data": {
            "text/plain": [
              "1"
            ]
          },
          "metadata": {},
          "execution_count": 20
        }
      ],
      "source": [
        "1"
      ]
    },
    {
      "cell_type": "markdown",
      "metadata": {
        "id": "utvUNXQ-kyq2"
      },
      "source": [
        "# Creating a Keras model"
      ]
    },
    {
      "cell_type": "code",
      "execution_count": 1,
      "metadata": {
        "id": "Yt6kUFC7kyq2"
      },
      "outputs": [],
      "source": [
        "import numpy as np\n",
        "import pandas as pd\n",
        "from tensorflow.keras.layers import Dense\n",
        "from tensorflow.keras.models import Sequential"
      ]
    },
    {
      "cell_type": "code",
      "execution_count": 2,
      "metadata": {
        "colab": {
          "base_uri": "https://localhost:8080/"
        },
        "id": "GJeppPz2kyq2",
        "outputId": "a18d2401-7590-41f4-9539-edb3d3a2da96"
      },
      "outputs": [
        {
          "output_type": "stream",
          "name": "stdout",
          "text": [
            "Mounted at /content/drive\n"
          ]
        }
      ],
      "source": [
        "from google.colab import drive\n",
        "drive.mount('/content/drive')"
      ]
    },
    {
      "cell_type": "code",
      "source": [
        "%cd /content/drive/MyDrive/Github"
      ],
      "metadata": {
        "colab": {
          "base_uri": "https://localhost:8080/"
        },
        "id": "5GatmJWLCN53",
        "outputId": "7674777e-1308-48fc-947b-1410dc2ec70c"
      },
      "execution_count": 5,
      "outputs": [
        {
          "output_type": "stream",
          "name": "stdout",
          "text": [
            "/content/drive/MyDrive/Github\n"
          ]
        }
      ]
    },
    {
      "cell_type": "code",
      "source": [
        "username = 'alipourmotlagh'\n",
        "repository = 'Deep-Learning-with-PyTorch'\n",
        "#git_token = '---'\n",
        "#!git clone https://{git_token}@github.com/{username}/{repository}\n"
      ],
      "metadata": {
        "colab": {
          "base_uri": "https://localhost:8080/"
        },
        "id": "hL4m9FJ4C4Zl",
        "outputId": "8fc7aa4f-b0e4-4efc-fe90-5cc89e1315a7"
      },
      "execution_count": 19,
      "outputs": [
        {
          "output_type": "stream",
          "name": "stdout",
          "text": [
            "Cloning into 'Deep-Learning-with-PyTorch'...\n",
            "remote: Enumerating objects: 98, done.\u001b[K\n",
            "remote: Counting objects: 100% (98/98), done.\u001b[K\n",
            "remote: Compressing objects: 100% (76/76), done.\u001b[K\n",
            "remote: Total 98 (delta 44), reused 67 (delta 22), pack-reused 0\u001b[K\n",
            "Unpacking objects: 100% (98/98), 3.31 MiB | 2.28 MiB/s, done.\n"
          ]
        }
      ]
    },
    {
      "cell_type": "code",
      "source": [
        "%cd {repository}"
      ],
      "metadata": {
        "colab": {
          "base_uri": "https://localhost:8080/"
        },
        "id": "azGYsDjYFQ1N",
        "outputId": "144a53ff-eb09-49c0-9188-48528d6b10bd"
      },
      "execution_count": 20,
      "outputs": [
        {
          "output_type": "stream",
          "name": "stdout",
          "text": [
            "/content/drive/MyDrive/Github/Deep-Learning-with-PyTorch/Deep-Learning-with-PyTorch\n"
          ]
        }
      ]
    },
    {
      "cell_type": "code",
      "source": [
        "%ls -a"
      ],
      "metadata": {
        "colab": {
          "base_uri": "https://localhost:8080/"
        },
        "id": "g3hr9az0F7pD",
        "outputId": "c2bfbadf-1181-43fd-ae17-531880254137"
      },
      "execution_count": 23,
      "outputs": [
        {
          "output_type": "stream",
          "name": "stdout",
          "text": [
            "'DeepLearning with Pytorch.ipynb'   IntroductionToDeeplearninginPython.ipynb\n",
            " \u001b[0m\u001b[01;34m.git\u001b[0m/                              mnist.csv\n",
            " .gitignore                         shot_logs.csv.zip\n",
            " hourly_wages.csv                   titanic_all_numeric.csv\n"
          ]
        }
      ]
    },
    {
      "cell_type": "code",
      "source": [
        "data = pd.read_csv('hourly_wages.csv')"
      ],
      "metadata": {
        "id": "kBbhoGrZFvMY"
      },
      "execution_count": 8,
      "outputs": []
    },
    {
      "cell_type": "code",
      "source": [
        "data.head()"
      ],
      "metadata": {
        "colab": {
          "base_uri": "https://localhost:8080/",
          "height": 206
        },
        "id": "kTuFMz3-GEzL",
        "outputId": "3b261825-a67d-4604-fc24-6d3e0d674276"
      },
      "execution_count": 9,
      "outputs": [
        {
          "output_type": "execute_result",
          "data": {
            "text/plain": [
              "   wage_per_hour  union  education_yrs  experience_yrs  age  female  marr  \\\n",
              "0           5.10      0              8              21   35       1     1   \n",
              "1           4.95      0              9              42   57       1     1   \n",
              "2           6.67      0             12               1   19       0     0   \n",
              "3           4.00      0             12               4   22       0     0   \n",
              "4           7.50      0             12              17   35       0     1   \n",
              "\n",
              "   south  manufacturing  construction  \n",
              "0      0              1             0  \n",
              "1      0              1             0  \n",
              "2      0              1             0  \n",
              "3      0              0             0  \n",
              "4      0              0             0  "
            ],
            "text/html": [
              "\n",
              "  <div id=\"df-36f84beb-08ee-4c87-b84e-3d234bdf2052\">\n",
              "    <div class=\"colab-df-container\">\n",
              "      <div>\n",
              "<style scoped>\n",
              "    .dataframe tbody tr th:only-of-type {\n",
              "        vertical-align: middle;\n",
              "    }\n",
              "\n",
              "    .dataframe tbody tr th {\n",
              "        vertical-align: top;\n",
              "    }\n",
              "\n",
              "    .dataframe thead th {\n",
              "        text-align: right;\n",
              "    }\n",
              "</style>\n",
              "<table border=\"1\" class=\"dataframe\">\n",
              "  <thead>\n",
              "    <tr style=\"text-align: right;\">\n",
              "      <th></th>\n",
              "      <th>wage_per_hour</th>\n",
              "      <th>union</th>\n",
              "      <th>education_yrs</th>\n",
              "      <th>experience_yrs</th>\n",
              "      <th>age</th>\n",
              "      <th>female</th>\n",
              "      <th>marr</th>\n",
              "      <th>south</th>\n",
              "      <th>manufacturing</th>\n",
              "      <th>construction</th>\n",
              "    </tr>\n",
              "  </thead>\n",
              "  <tbody>\n",
              "    <tr>\n",
              "      <th>0</th>\n",
              "      <td>5.10</td>\n",
              "      <td>0</td>\n",
              "      <td>8</td>\n",
              "      <td>21</td>\n",
              "      <td>35</td>\n",
              "      <td>1</td>\n",
              "      <td>1</td>\n",
              "      <td>0</td>\n",
              "      <td>1</td>\n",
              "      <td>0</td>\n",
              "    </tr>\n",
              "    <tr>\n",
              "      <th>1</th>\n",
              "      <td>4.95</td>\n",
              "      <td>0</td>\n",
              "      <td>9</td>\n",
              "      <td>42</td>\n",
              "      <td>57</td>\n",
              "      <td>1</td>\n",
              "      <td>1</td>\n",
              "      <td>0</td>\n",
              "      <td>1</td>\n",
              "      <td>0</td>\n",
              "    </tr>\n",
              "    <tr>\n",
              "      <th>2</th>\n",
              "      <td>6.67</td>\n",
              "      <td>0</td>\n",
              "      <td>12</td>\n",
              "      <td>1</td>\n",
              "      <td>19</td>\n",
              "      <td>0</td>\n",
              "      <td>0</td>\n",
              "      <td>0</td>\n",
              "      <td>1</td>\n",
              "      <td>0</td>\n",
              "    </tr>\n",
              "    <tr>\n",
              "      <th>3</th>\n",
              "      <td>4.00</td>\n",
              "      <td>0</td>\n",
              "      <td>12</td>\n",
              "      <td>4</td>\n",
              "      <td>22</td>\n",
              "      <td>0</td>\n",
              "      <td>0</td>\n",
              "      <td>0</td>\n",
              "      <td>0</td>\n",
              "      <td>0</td>\n",
              "    </tr>\n",
              "    <tr>\n",
              "      <th>4</th>\n",
              "      <td>7.50</td>\n",
              "      <td>0</td>\n",
              "      <td>12</td>\n",
              "      <td>17</td>\n",
              "      <td>35</td>\n",
              "      <td>0</td>\n",
              "      <td>1</td>\n",
              "      <td>0</td>\n",
              "      <td>0</td>\n",
              "      <td>0</td>\n",
              "    </tr>\n",
              "  </tbody>\n",
              "</table>\n",
              "</div>\n",
              "      <button class=\"colab-df-convert\" onclick=\"convertToInteractive('df-36f84beb-08ee-4c87-b84e-3d234bdf2052')\"\n",
              "              title=\"Convert this dataframe to an interactive table.\"\n",
              "              style=\"display:none;\">\n",
              "        \n",
              "  <svg xmlns=\"http://www.w3.org/2000/svg\" height=\"24px\"viewBox=\"0 0 24 24\"\n",
              "       width=\"24px\">\n",
              "    <path d=\"M0 0h24v24H0V0z\" fill=\"none\"/>\n",
              "    <path d=\"M18.56 5.44l.94 2.06.94-2.06 2.06-.94-2.06-.94-.94-2.06-.94 2.06-2.06.94zm-11 1L8.5 8.5l.94-2.06 2.06-.94-2.06-.94L8.5 2.5l-.94 2.06-2.06.94zm10 10l.94 2.06.94-2.06 2.06-.94-2.06-.94-.94-2.06-.94 2.06-2.06.94z\"/><path d=\"M17.41 7.96l-1.37-1.37c-.4-.4-.92-.59-1.43-.59-.52 0-1.04.2-1.43.59L10.3 9.45l-7.72 7.72c-.78.78-.78 2.05 0 2.83L4 21.41c.39.39.9.59 1.41.59.51 0 1.02-.2 1.41-.59l7.78-7.78 2.81-2.81c.8-.78.8-2.07 0-2.86zM5.41 20L4 18.59l7.72-7.72 1.47 1.35L5.41 20z\"/>\n",
              "  </svg>\n",
              "      </button>\n",
              "      \n",
              "  <style>\n",
              "    .colab-df-container {\n",
              "      display:flex;\n",
              "      flex-wrap:wrap;\n",
              "      gap: 12px;\n",
              "    }\n",
              "\n",
              "    .colab-df-convert {\n",
              "      background-color: #E8F0FE;\n",
              "      border: none;\n",
              "      border-radius: 50%;\n",
              "      cursor: pointer;\n",
              "      display: none;\n",
              "      fill: #1967D2;\n",
              "      height: 32px;\n",
              "      padding: 0 0 0 0;\n",
              "      width: 32px;\n",
              "    }\n",
              "\n",
              "    .colab-df-convert:hover {\n",
              "      background-color: #E2EBFA;\n",
              "      box-shadow: 0px 1px 2px rgba(60, 64, 67, 0.3), 0px 1px 3px 1px rgba(60, 64, 67, 0.15);\n",
              "      fill: #174EA6;\n",
              "    }\n",
              "\n",
              "    [theme=dark] .colab-df-convert {\n",
              "      background-color: #3B4455;\n",
              "      fill: #D2E3FC;\n",
              "    }\n",
              "\n",
              "    [theme=dark] .colab-df-convert:hover {\n",
              "      background-color: #434B5C;\n",
              "      box-shadow: 0px 1px 3px 1px rgba(0, 0, 0, 0.15);\n",
              "      filter: drop-shadow(0px 1px 2px rgba(0, 0, 0, 0.3));\n",
              "      fill: #FFFFFF;\n",
              "    }\n",
              "  </style>\n",
              "\n",
              "      <script>\n",
              "        const buttonEl =\n",
              "          document.querySelector('#df-36f84beb-08ee-4c87-b84e-3d234bdf2052 button.colab-df-convert');\n",
              "        buttonEl.style.display =\n",
              "          google.colab.kernel.accessAllowed ? 'block' : 'none';\n",
              "\n",
              "        async function convertToInteractive(key) {\n",
              "          const element = document.querySelector('#df-36f84beb-08ee-4c87-b84e-3d234bdf2052');\n",
              "          const dataTable =\n",
              "            await google.colab.kernel.invokeFunction('convertToInteractive',\n",
              "                                                     [key], {});\n",
              "          if (!dataTable) return;\n",
              "\n",
              "          const docLinkHtml = 'Like what you see? Visit the ' +\n",
              "            '<a target=\"_blank\" href=https://colab.research.google.com/notebooks/data_table.ipynb>data table notebook</a>'\n",
              "            + ' to learn more about interactive tables.';\n",
              "          element.innerHTML = '';\n",
              "          dataTable['output_type'] = 'display_data';\n",
              "          await google.colab.output.renderOutput(dataTable, element);\n",
              "          const docLink = document.createElement('div');\n",
              "          docLink.innerHTML = docLinkHtml;\n",
              "          element.appendChild(docLink);\n",
              "        }\n",
              "      </script>\n",
              "    </div>\n",
              "  </div>\n",
              "  "
            ]
          },
          "metadata": {},
          "execution_count": 9
        }
      ]
    },
    {
      "cell_type": "code",
      "source": [
        "data.describe()"
      ],
      "metadata": {
        "colab": {
          "base_uri": "https://localhost:8080/",
          "height": 300
        },
        "id": "YArWCmpJGHox",
        "outputId": "1b90414b-ab28-4395-f6f9-4923822b33be"
      },
      "execution_count": 10,
      "outputs": [
        {
          "output_type": "execute_result",
          "data": {
            "text/plain": [
              "       wage_per_hour       union  education_yrs  experience_yrs         age  \\\n",
              "count     534.000000  534.000000     534.000000      534.000000  534.000000   \n",
              "mean        9.024064    0.179775      13.018727       17.822097   36.833333   \n",
              "std         5.139097    0.384360       2.615373       12.379710   11.726573   \n",
              "min         1.000000    0.000000       2.000000        0.000000   18.000000   \n",
              "25%         5.250000    0.000000      12.000000        8.000000   28.000000   \n",
              "50%         7.780000    0.000000      12.000000       15.000000   35.000000   \n",
              "75%        11.250000    0.000000      15.000000       26.000000   44.000000   \n",
              "max        44.500000    1.000000      18.000000       55.000000   64.000000   \n",
              "\n",
              "           female        marr       south  manufacturing  construction  \n",
              "count  534.000000  534.000000  534.000000     534.000000    534.000000  \n",
              "mean     0.458801    0.655431    0.292135       0.185393      0.044944  \n",
              "std      0.498767    0.475673    0.455170       0.388981      0.207375  \n",
              "min      0.000000    0.000000    0.000000       0.000000      0.000000  \n",
              "25%      0.000000    0.000000    0.000000       0.000000      0.000000  \n",
              "50%      0.000000    1.000000    0.000000       0.000000      0.000000  \n",
              "75%      1.000000    1.000000    1.000000       0.000000      0.000000  \n",
              "max      1.000000    1.000000    1.000000       1.000000      1.000000  "
            ],
            "text/html": [
              "\n",
              "  <div id=\"df-8af63b23-dd53-433d-a40e-e818323090a0\">\n",
              "    <div class=\"colab-df-container\">\n",
              "      <div>\n",
              "<style scoped>\n",
              "    .dataframe tbody tr th:only-of-type {\n",
              "        vertical-align: middle;\n",
              "    }\n",
              "\n",
              "    .dataframe tbody tr th {\n",
              "        vertical-align: top;\n",
              "    }\n",
              "\n",
              "    .dataframe thead th {\n",
              "        text-align: right;\n",
              "    }\n",
              "</style>\n",
              "<table border=\"1\" class=\"dataframe\">\n",
              "  <thead>\n",
              "    <tr style=\"text-align: right;\">\n",
              "      <th></th>\n",
              "      <th>wage_per_hour</th>\n",
              "      <th>union</th>\n",
              "      <th>education_yrs</th>\n",
              "      <th>experience_yrs</th>\n",
              "      <th>age</th>\n",
              "      <th>female</th>\n",
              "      <th>marr</th>\n",
              "      <th>south</th>\n",
              "      <th>manufacturing</th>\n",
              "      <th>construction</th>\n",
              "    </tr>\n",
              "  </thead>\n",
              "  <tbody>\n",
              "    <tr>\n",
              "      <th>count</th>\n",
              "      <td>534.000000</td>\n",
              "      <td>534.000000</td>\n",
              "      <td>534.000000</td>\n",
              "      <td>534.000000</td>\n",
              "      <td>534.000000</td>\n",
              "      <td>534.000000</td>\n",
              "      <td>534.000000</td>\n",
              "      <td>534.000000</td>\n",
              "      <td>534.000000</td>\n",
              "      <td>534.000000</td>\n",
              "    </tr>\n",
              "    <tr>\n",
              "      <th>mean</th>\n",
              "      <td>9.024064</td>\n",
              "      <td>0.179775</td>\n",
              "      <td>13.018727</td>\n",
              "      <td>17.822097</td>\n",
              "      <td>36.833333</td>\n",
              "      <td>0.458801</td>\n",
              "      <td>0.655431</td>\n",
              "      <td>0.292135</td>\n",
              "      <td>0.185393</td>\n",
              "      <td>0.044944</td>\n",
              "    </tr>\n",
              "    <tr>\n",
              "      <th>std</th>\n",
              "      <td>5.139097</td>\n",
              "      <td>0.384360</td>\n",
              "      <td>2.615373</td>\n",
              "      <td>12.379710</td>\n",
              "      <td>11.726573</td>\n",
              "      <td>0.498767</td>\n",
              "      <td>0.475673</td>\n",
              "      <td>0.455170</td>\n",
              "      <td>0.388981</td>\n",
              "      <td>0.207375</td>\n",
              "    </tr>\n",
              "    <tr>\n",
              "      <th>min</th>\n",
              "      <td>1.000000</td>\n",
              "      <td>0.000000</td>\n",
              "      <td>2.000000</td>\n",
              "      <td>0.000000</td>\n",
              "      <td>18.000000</td>\n",
              "      <td>0.000000</td>\n",
              "      <td>0.000000</td>\n",
              "      <td>0.000000</td>\n",
              "      <td>0.000000</td>\n",
              "      <td>0.000000</td>\n",
              "    </tr>\n",
              "    <tr>\n",
              "      <th>25%</th>\n",
              "      <td>5.250000</td>\n",
              "      <td>0.000000</td>\n",
              "      <td>12.000000</td>\n",
              "      <td>8.000000</td>\n",
              "      <td>28.000000</td>\n",
              "      <td>0.000000</td>\n",
              "      <td>0.000000</td>\n",
              "      <td>0.000000</td>\n",
              "      <td>0.000000</td>\n",
              "      <td>0.000000</td>\n",
              "    </tr>\n",
              "    <tr>\n",
              "      <th>50%</th>\n",
              "      <td>7.780000</td>\n",
              "      <td>0.000000</td>\n",
              "      <td>12.000000</td>\n",
              "      <td>15.000000</td>\n",
              "      <td>35.000000</td>\n",
              "      <td>0.000000</td>\n",
              "      <td>1.000000</td>\n",
              "      <td>0.000000</td>\n",
              "      <td>0.000000</td>\n",
              "      <td>0.000000</td>\n",
              "    </tr>\n",
              "    <tr>\n",
              "      <th>75%</th>\n",
              "      <td>11.250000</td>\n",
              "      <td>0.000000</td>\n",
              "      <td>15.000000</td>\n",
              "      <td>26.000000</td>\n",
              "      <td>44.000000</td>\n",
              "      <td>1.000000</td>\n",
              "      <td>1.000000</td>\n",
              "      <td>1.000000</td>\n",
              "      <td>0.000000</td>\n",
              "      <td>0.000000</td>\n",
              "    </tr>\n",
              "    <tr>\n",
              "      <th>max</th>\n",
              "      <td>44.500000</td>\n",
              "      <td>1.000000</td>\n",
              "      <td>18.000000</td>\n",
              "      <td>55.000000</td>\n",
              "      <td>64.000000</td>\n",
              "      <td>1.000000</td>\n",
              "      <td>1.000000</td>\n",
              "      <td>1.000000</td>\n",
              "      <td>1.000000</td>\n",
              "      <td>1.000000</td>\n",
              "    </tr>\n",
              "  </tbody>\n",
              "</table>\n",
              "</div>\n",
              "      <button class=\"colab-df-convert\" onclick=\"convertToInteractive('df-8af63b23-dd53-433d-a40e-e818323090a0')\"\n",
              "              title=\"Convert this dataframe to an interactive table.\"\n",
              "              style=\"display:none;\">\n",
              "        \n",
              "  <svg xmlns=\"http://www.w3.org/2000/svg\" height=\"24px\"viewBox=\"0 0 24 24\"\n",
              "       width=\"24px\">\n",
              "    <path d=\"M0 0h24v24H0V0z\" fill=\"none\"/>\n",
              "    <path d=\"M18.56 5.44l.94 2.06.94-2.06 2.06-.94-2.06-.94-.94-2.06-.94 2.06-2.06.94zm-11 1L8.5 8.5l.94-2.06 2.06-.94-2.06-.94L8.5 2.5l-.94 2.06-2.06.94zm10 10l.94 2.06.94-2.06 2.06-.94-2.06-.94-.94-2.06-.94 2.06-2.06.94z\"/><path d=\"M17.41 7.96l-1.37-1.37c-.4-.4-.92-.59-1.43-.59-.52 0-1.04.2-1.43.59L10.3 9.45l-7.72 7.72c-.78.78-.78 2.05 0 2.83L4 21.41c.39.39.9.59 1.41.59.51 0 1.02-.2 1.41-.59l7.78-7.78 2.81-2.81c.8-.78.8-2.07 0-2.86zM5.41 20L4 18.59l7.72-7.72 1.47 1.35L5.41 20z\"/>\n",
              "  </svg>\n",
              "      </button>\n",
              "      \n",
              "  <style>\n",
              "    .colab-df-container {\n",
              "      display:flex;\n",
              "      flex-wrap:wrap;\n",
              "      gap: 12px;\n",
              "    }\n",
              "\n",
              "    .colab-df-convert {\n",
              "      background-color: #E8F0FE;\n",
              "      border: none;\n",
              "      border-radius: 50%;\n",
              "      cursor: pointer;\n",
              "      display: none;\n",
              "      fill: #1967D2;\n",
              "      height: 32px;\n",
              "      padding: 0 0 0 0;\n",
              "      width: 32px;\n",
              "    }\n",
              "\n",
              "    .colab-df-convert:hover {\n",
              "      background-color: #E2EBFA;\n",
              "      box-shadow: 0px 1px 2px rgba(60, 64, 67, 0.3), 0px 1px 3px 1px rgba(60, 64, 67, 0.15);\n",
              "      fill: #174EA6;\n",
              "    }\n",
              "\n",
              "    [theme=dark] .colab-df-convert {\n",
              "      background-color: #3B4455;\n",
              "      fill: #D2E3FC;\n",
              "    }\n",
              "\n",
              "    [theme=dark] .colab-df-convert:hover {\n",
              "      background-color: #434B5C;\n",
              "      box-shadow: 0px 1px 3px 1px rgba(0, 0, 0, 0.15);\n",
              "      filter: drop-shadow(0px 1px 2px rgba(0, 0, 0, 0.3));\n",
              "      fill: #FFFFFF;\n",
              "    }\n",
              "  </style>\n",
              "\n",
              "      <script>\n",
              "        const buttonEl =\n",
              "          document.querySelector('#df-8af63b23-dd53-433d-a40e-e818323090a0 button.colab-df-convert');\n",
              "        buttonEl.style.display =\n",
              "          google.colab.kernel.accessAllowed ? 'block' : 'none';\n",
              "\n",
              "        async function convertToInteractive(key) {\n",
              "          const element = document.querySelector('#df-8af63b23-dd53-433d-a40e-e818323090a0');\n",
              "          const dataTable =\n",
              "            await google.colab.kernel.invokeFunction('convertToInteractive',\n",
              "                                                     [key], {});\n",
              "          if (!dataTable) return;\n",
              "\n",
              "          const docLinkHtml = 'Like what you see? Visit the ' +\n",
              "            '<a target=\"_blank\" href=https://colab.research.google.com/notebooks/data_table.ipynb>data table notebook</a>'\n",
              "            + ' to learn more about interactive tables.';\n",
              "          element.innerHTML = '';\n",
              "          dataTable['output_type'] = 'display_data';\n",
              "          await google.colab.output.renderOutput(dataTable, element);\n",
              "          const docLink = document.createElement('div');\n",
              "          docLink.innerHTML = docLinkHtml;\n",
              "          element.appendChild(docLink);\n",
              "        }\n",
              "      </script>\n",
              "    </div>\n",
              "  </div>\n",
              "  "
            ]
          },
          "metadata": {},
          "execution_count": 10
        }
      ]
    },
    {
      "cell_type": "code",
      "source": [
        "predictors = data.iloc[:,1:]\n",
        "target = data.iloc[:,0]\n",
        "predictors.head()"
      ],
      "metadata": {
        "colab": {
          "base_uri": "https://localhost:8080/",
          "height": 206
        },
        "id": "uxKT1yoiI5mt",
        "outputId": "3b288ce1-705e-4d92-8d94-c4db8fbb48bf"
      },
      "execution_count": 14,
      "outputs": [
        {
          "output_type": "execute_result",
          "data": {
            "text/plain": [
              "   union  education_yrs  experience_yrs  age  female  marr  south  \\\n",
              "0      0              8              21   35       1     1      0   \n",
              "1      0              9              42   57       1     1      0   \n",
              "2      0             12               1   19       0     0      0   \n",
              "3      0             12               4   22       0     0      0   \n",
              "4      0             12              17   35       0     1      0   \n",
              "\n",
              "   manufacturing  construction  \n",
              "0              1             0  \n",
              "1              1             0  \n",
              "2              1             0  \n",
              "3              0             0  \n",
              "4              0             0  "
            ],
            "text/html": [
              "\n",
              "  <div id=\"df-ca2d08a0-937e-4fdc-834b-3d07cf72df62\">\n",
              "    <div class=\"colab-df-container\">\n",
              "      <div>\n",
              "<style scoped>\n",
              "    .dataframe tbody tr th:only-of-type {\n",
              "        vertical-align: middle;\n",
              "    }\n",
              "\n",
              "    .dataframe tbody tr th {\n",
              "        vertical-align: top;\n",
              "    }\n",
              "\n",
              "    .dataframe thead th {\n",
              "        text-align: right;\n",
              "    }\n",
              "</style>\n",
              "<table border=\"1\" class=\"dataframe\">\n",
              "  <thead>\n",
              "    <tr style=\"text-align: right;\">\n",
              "      <th></th>\n",
              "      <th>union</th>\n",
              "      <th>education_yrs</th>\n",
              "      <th>experience_yrs</th>\n",
              "      <th>age</th>\n",
              "      <th>female</th>\n",
              "      <th>marr</th>\n",
              "      <th>south</th>\n",
              "      <th>manufacturing</th>\n",
              "      <th>construction</th>\n",
              "    </tr>\n",
              "  </thead>\n",
              "  <tbody>\n",
              "    <tr>\n",
              "      <th>0</th>\n",
              "      <td>0</td>\n",
              "      <td>8</td>\n",
              "      <td>21</td>\n",
              "      <td>35</td>\n",
              "      <td>1</td>\n",
              "      <td>1</td>\n",
              "      <td>0</td>\n",
              "      <td>1</td>\n",
              "      <td>0</td>\n",
              "    </tr>\n",
              "    <tr>\n",
              "      <th>1</th>\n",
              "      <td>0</td>\n",
              "      <td>9</td>\n",
              "      <td>42</td>\n",
              "      <td>57</td>\n",
              "      <td>1</td>\n",
              "      <td>1</td>\n",
              "      <td>0</td>\n",
              "      <td>1</td>\n",
              "      <td>0</td>\n",
              "    </tr>\n",
              "    <tr>\n",
              "      <th>2</th>\n",
              "      <td>0</td>\n",
              "      <td>12</td>\n",
              "      <td>1</td>\n",
              "      <td>19</td>\n",
              "      <td>0</td>\n",
              "      <td>0</td>\n",
              "      <td>0</td>\n",
              "      <td>1</td>\n",
              "      <td>0</td>\n",
              "    </tr>\n",
              "    <tr>\n",
              "      <th>3</th>\n",
              "      <td>0</td>\n",
              "      <td>12</td>\n",
              "      <td>4</td>\n",
              "      <td>22</td>\n",
              "      <td>0</td>\n",
              "      <td>0</td>\n",
              "      <td>0</td>\n",
              "      <td>0</td>\n",
              "      <td>0</td>\n",
              "    </tr>\n",
              "    <tr>\n",
              "      <th>4</th>\n",
              "      <td>0</td>\n",
              "      <td>12</td>\n",
              "      <td>17</td>\n",
              "      <td>35</td>\n",
              "      <td>0</td>\n",
              "      <td>1</td>\n",
              "      <td>0</td>\n",
              "      <td>0</td>\n",
              "      <td>0</td>\n",
              "    </tr>\n",
              "  </tbody>\n",
              "</table>\n",
              "</div>\n",
              "      <button class=\"colab-df-convert\" onclick=\"convertToInteractive('df-ca2d08a0-937e-4fdc-834b-3d07cf72df62')\"\n",
              "              title=\"Convert this dataframe to an interactive table.\"\n",
              "              style=\"display:none;\">\n",
              "        \n",
              "  <svg xmlns=\"http://www.w3.org/2000/svg\" height=\"24px\"viewBox=\"0 0 24 24\"\n",
              "       width=\"24px\">\n",
              "    <path d=\"M0 0h24v24H0V0z\" fill=\"none\"/>\n",
              "    <path d=\"M18.56 5.44l.94 2.06.94-2.06 2.06-.94-2.06-.94-.94-2.06-.94 2.06-2.06.94zm-11 1L8.5 8.5l.94-2.06 2.06-.94-2.06-.94L8.5 2.5l-.94 2.06-2.06.94zm10 10l.94 2.06.94-2.06 2.06-.94-2.06-.94-.94-2.06-.94 2.06-2.06.94z\"/><path d=\"M17.41 7.96l-1.37-1.37c-.4-.4-.92-.59-1.43-.59-.52 0-1.04.2-1.43.59L10.3 9.45l-7.72 7.72c-.78.78-.78 2.05 0 2.83L4 21.41c.39.39.9.59 1.41.59.51 0 1.02-.2 1.41-.59l7.78-7.78 2.81-2.81c.8-.78.8-2.07 0-2.86zM5.41 20L4 18.59l7.72-7.72 1.47 1.35L5.41 20z\"/>\n",
              "  </svg>\n",
              "      </button>\n",
              "      \n",
              "  <style>\n",
              "    .colab-df-container {\n",
              "      display:flex;\n",
              "      flex-wrap:wrap;\n",
              "      gap: 12px;\n",
              "    }\n",
              "\n",
              "    .colab-df-convert {\n",
              "      background-color: #E8F0FE;\n",
              "      border: none;\n",
              "      border-radius: 50%;\n",
              "      cursor: pointer;\n",
              "      display: none;\n",
              "      fill: #1967D2;\n",
              "      height: 32px;\n",
              "      padding: 0 0 0 0;\n",
              "      width: 32px;\n",
              "    }\n",
              "\n",
              "    .colab-df-convert:hover {\n",
              "      background-color: #E2EBFA;\n",
              "      box-shadow: 0px 1px 2px rgba(60, 64, 67, 0.3), 0px 1px 3px 1px rgba(60, 64, 67, 0.15);\n",
              "      fill: #174EA6;\n",
              "    }\n",
              "\n",
              "    [theme=dark] .colab-df-convert {\n",
              "      background-color: #3B4455;\n",
              "      fill: #D2E3FC;\n",
              "    }\n",
              "\n",
              "    [theme=dark] .colab-df-convert:hover {\n",
              "      background-color: #434B5C;\n",
              "      box-shadow: 0px 1px 3px 1px rgba(0, 0, 0, 0.15);\n",
              "      filter: drop-shadow(0px 1px 2px rgba(0, 0, 0, 0.3));\n",
              "      fill: #FFFFFF;\n",
              "    }\n",
              "  </style>\n",
              "\n",
              "      <script>\n",
              "        const buttonEl =\n",
              "          document.querySelector('#df-ca2d08a0-937e-4fdc-834b-3d07cf72df62 button.colab-df-convert');\n",
              "        buttonEl.style.display =\n",
              "          google.colab.kernel.accessAllowed ? 'block' : 'none';\n",
              "\n",
              "        async function convertToInteractive(key) {\n",
              "          const element = document.querySelector('#df-ca2d08a0-937e-4fdc-834b-3d07cf72df62');\n",
              "          const dataTable =\n",
              "            await google.colab.kernel.invokeFunction('convertToInteractive',\n",
              "                                                     [key], {});\n",
              "          if (!dataTable) return;\n",
              "\n",
              "          const docLinkHtml = 'Like what you see? Visit the ' +\n",
              "            '<a target=\"_blank\" href=https://colab.research.google.com/notebooks/data_table.ipynb>data table notebook</a>'\n",
              "            + ' to learn more about interactive tables.';\n",
              "          element.innerHTML = '';\n",
              "          dataTable['output_type'] = 'display_data';\n",
              "          await google.colab.output.renderOutput(dataTable, element);\n",
              "          const docLink = document.createElement('div');\n",
              "          docLink.innerHTML = docLinkHtml;\n",
              "          element.appendChild(docLink);\n",
              "        }\n",
              "      </script>\n",
              "    </div>\n",
              "  </div>\n",
              "  "
            ]
          },
          "metadata": {},
          "execution_count": 14
        }
      ]
    },
    {
      "cell_type": "code",
      "source": [
        "predictors = data.iloc[:,1:]\n",
        "\n",
        "# Save the number of columns in predictors: n_cols\n",
        "n_cols = predictors.shape[1]\n",
        "\n",
        "# Set up the model: model\n",
        "model = Sequential()\n",
        "\n",
        "# Add the first layer\n",
        "model.add(Dense(50, activation='relu', input_shape=(n_cols,)))\n",
        "\n",
        "# Add the second layer\n",
        "model.add(Dense(32,activation='relu', input_shape=(n_cols,)))\n",
        "\n",
        "# Add the output layer\n",
        "model.add(Dense(1))"
      ],
      "metadata": {
        "id": "3QI6rCrIGJiW"
      },
      "execution_count": 12,
      "outputs": []
    },
    {
      "cell_type": "markdown",
      "source": [
        "## Compiling and fitting a model"
      ],
      "metadata": {
        "id": "pUycwl3ddAZ8"
      }
    },
    {
      "cell_type": "code",
      "source": [
        "model.compile(optimizer='adam',loss='mean_squared_error')"
      ],
      "metadata": {
        "id": "mYIqt3TvK6Wb"
      },
      "execution_count": 16,
      "outputs": []
    },
    {
      "cell_type": "code",
      "source": [
        "model.fit(predictors,target)"
      ],
      "metadata": {
        "colab": {
          "base_uri": "https://localhost:8080/"
        },
        "id": "GIOznR69dCxL",
        "outputId": "3bf05a9a-a211-4945-fb6d-e9e89c2058d6"
      },
      "execution_count": 17,
      "outputs": [
        {
          "output_type": "stream",
          "name": "stdout",
          "text": [
            "17/17 [==============================] - 1s 2ms/step - loss: 88.1141\n"
          ]
        },
        {
          "output_type": "execute_result",
          "data": {
            "text/plain": [
              "<keras.callbacks.History at 0x7f55d4002f40>"
            ]
          },
          "metadata": {},
          "execution_count": 17
        }
      ]
    },
    {
      "cell_type": "code",
      "source": [
        "\n",
        "# Specify the model\n",
        "n_cols = predictors.shape[1]\n",
        "model = Sequential()\n",
        "model.add(Dense(50, activation='relu', input_shape = (n_cols,)))\n",
        "model.add(Dense(32, activation='relu'))\n",
        "model.add(Dense(1))\n",
        "\n",
        "# Compile the model\n",
        "model.compile(optimizer='adam', loss='mean_squared_error')\n",
        "\n",
        "# Fit the model\n",
        "model.fit(predictors,target)"
      ],
      "metadata": {
        "colab": {
          "base_uri": "https://localhost:8080/"
        },
        "id": "nobzh4CJdCuL",
        "outputId": "e7e45308-7c08-427e-ec8d-6bc2b7d68ff4"
      },
      "execution_count": 18,
      "outputs": [
        {
          "output_type": "stream",
          "name": "stdout",
          "text": [
            "17/17 [==============================] - 1s 3ms/step - loss: 86.4830\n"
          ]
        },
        {
          "output_type": "execute_result",
          "data": {
            "text/plain": [
              "<keras.callbacks.History at 0x7f55cc7fb5e0>"
            ]
          },
          "metadata": {},
          "execution_count": 18
        }
      ]
    },
    {
      "cell_type": "markdown",
      "source": [
        "## Classification models"
      ],
      "metadata": {
        "id": "XaQrRrG0e1S-"
      }
    },
    {
      "cell_type": "code",
      "source": [
        "from tensorflow.keras.utils import to_categorical\n",
        "\n",
        "df  = pd.read_csv('titanic_all_numeric.csv')\n",
        "predictors = df.drop(['survived'],axis=1).astype('float32').values\n",
        "target = to_categorical(df.survived)\n",
        "n_cols = predictors.shape[1]\n",
        "\n",
        "\n"
      ],
      "metadata": {
        "id": "H0YtpVA-dCrd"
      },
      "execution_count": 30,
      "outputs": []
    },
    {
      "cell_type": "code",
      "source": [
        "\n",
        "\n",
        "# Convert the target to categorical: target\n",
        "target = to_categorical(df.survived)\n",
        "\n",
        "# Set up the model\n",
        "model = Sequential()\n",
        "\n",
        "# Add the first layer\n",
        "model.add(Dense(32,activation = 'relu',input_shape = (n_cols,)))\n",
        "\n",
        "# Add the output layer\n",
        "model.add(Dense(2,activation = 'softmax'))\n",
        "\n",
        "# Compile the model\n",
        "model.compile(optimizer = 'sgd', loss = 'categorical_crossentropy',metrics = ['accuracy'])\n",
        "\n",
        "# Fit the model\n",
        "model.fit(predictors,target)"
      ],
      "metadata": {
        "colab": {
          "base_uri": "https://localhost:8080/"
        },
        "id": "Dz7ZiVUUdCoX",
        "outputId": "e6c066ce-422a-4ab6-fb8a-cca33672a214"
      },
      "execution_count": 31,
      "outputs": [
        {
          "output_type": "stream",
          "name": "stdout",
          "text": [
            "28/28 [==============================] - 0s 1ms/step - loss: 3.9094 - accuracy: 0.5870\n"
          ]
        },
        {
          "output_type": "execute_result",
          "data": {
            "text/plain": [
              "<keras.callbacks.History at 0x7f55c65418b0>"
            ]
          },
          "metadata": {},
          "execution_count": 31
        }
      ]
    },
    {
      "cell_type": "markdown",
      "source": [
        "# using Model\n",
        "## Saving, loding and prediction"
      ],
      "metadata": {
        "id": "2LQamE1tqdVl"
      }
    },
    {
      "cell_type": "code",
      "source": [
        "from tensorflow.keras.models import load_model\n",
        "model.save('model_file.h5')\n",
        "my_model = load_model('model_file.h5')\n",
        "#predictions = my_model.predict(data to predict)\n",
        "#probability_true = predictions[:,1]"
      ],
      "metadata": {
        "id": "w4mpQqfgo_Zr"
      },
      "execution_count": 35,
      "outputs": []
    },
    {
      "cell_type": "code",
      "source": [
        "%ls -a"
      ],
      "metadata": {
        "id": "G22k_1MUqxNf",
        "outputId": "288eb7d7-6e2c-4319-9663-82466f6a3c86",
        "colab": {
          "base_uri": "https://localhost:8080/"
        }
      },
      "execution_count": 36,
      "outputs": [
        {
          "output_type": "stream",
          "name": "stdout",
          "text": [
            "'DeepLearning with Pytorch.ipynb'           mnist.csv\n",
            " \u001b[0m\u001b[01;34m.git\u001b[0m/                                      model_file.h5\n",
            " .gitignore                                 shot_logs.csv.zip\n",
            " hourly_wages.csv                           titanic_all_numeric.csv\n",
            " IntroductionToDeeplearninginPython.ipynb\n"
          ]
        }
      ]
    },
    {
      "cell_type": "code",
      "source": [
        "my_model.summary()"
      ],
      "metadata": {
        "id": "vf20gP4qrnwm",
        "outputId": "c6e065ea-54fd-4672-aa3f-b98b3f89d96f",
        "colab": {
          "base_uri": "https://localhost:8080/"
        }
      },
      "execution_count": 37,
      "outputs": [
        {
          "output_type": "stream",
          "name": "stdout",
          "text": [
            "Model: \"sequential_3\"\n",
            "_________________________________________________________________\n",
            " Layer (type)                Output Shape              Param #   \n",
            "=================================================================\n",
            " dense_8 (Dense)             (None, 32)                352       \n",
            "                                                                 \n",
            " dense_9 (Dense)             (None, 2)                 66        \n",
            "                                                                 \n",
            "=================================================================\n",
            "Total params: 418\n",
            "Trainable params: 418\n",
            "Non-trainable params: 0\n",
            "_________________________________________________________________\n"
          ]
        }
      ]
    },
    {
      "cell_type": "code",
      "source": [
        "model.summary()"
      ],
      "metadata": {
        "id": "HyeR37Dpr79E",
        "outputId": "59cf3d05-e051-4fba-cf7c-fa4135fa9b16",
        "colab": {
          "base_uri": "https://localhost:8080/"
        }
      },
      "execution_count": 38,
      "outputs": [
        {
          "output_type": "stream",
          "name": "stdout",
          "text": [
            "Model: \"sequential_3\"\n",
            "_________________________________________________________________\n",
            " Layer (type)                Output Shape              Param #   \n",
            "=================================================================\n",
            " dense_8 (Dense)             (None, 32)                352       \n",
            "                                                                 \n",
            " dense_9 (Dense)             (None, 2)                 66        \n",
            "                                                                 \n",
            "=================================================================\n",
            "Total params: 418\n",
            "Trainable params: 418\n",
            "Non-trainable params: 0\n",
            "_________________________________________________________________\n"
          ]
        }
      ]
    },
    {
      "cell_type": "code",
      "source": [
        "pred_data = np.array([[  2.      ,  34.      ,   0.      ,   0.      ,  13.      ,\n",
        "          1.      ,   0.      ,   0.      ,   0.      ,   1.      ],\n",
        "       [  2.      ,  31.      ,   1.      ,   1.      ,  26.25    ,\n",
        "          0.      ,   0.      ,   0.      ,   0.      ,   1.      ],\n",
        "       [  1.      ,  11.      ,   1.      ,   2.      , 120.      ,\n",
        "          1.      ,   0.      ,   0.      ,   0.      ,   1.      ],\n",
        "       [  3.      ,   0.42    ,   0.      ,   1.      ,   8.5167  ,\n",
        "          1.      ,   0.      ,   1.      ,   0.      ,   0.      ],\n",
        "       [  3.      ,  27.      ,   0.      ,   0.      ,   6.975   ,\n",
        "          1.      ,   0.      ,   0.      ,   0.      ,   1.      ],\n",
        "       [  3.      ,  31.      ,   0.      ,   0.      ,   7.775   ,\n",
        "          1.      ,   0.      ,   0.      ,   0.      ,   1.      ],\n",
        "       [  1.      ,  39.      ,   0.      ,   0.      ,   0.      ,\n",
        "          1.      ,   0.      ,   0.      ,   0.      ,   1.      ],\n",
        "       [  3.      ,  18.      ,   0.      ,   0.      ,   7.775   ,\n",
        "          0.      ,   0.      ,   0.      ,   0.      ,   1.      ],\n",
        "       [  2.      ,  39.      ,   0.      ,   0.      ,  13.      ,\n",
        "          1.      ,   0.      ,   0.      ,   0.      ,   1.      ],\n",
        "       [  1.      ,  33.      ,   1.      ,   0.      ,  53.1     ,\n",
        "          0.      ,   0.      ,   0.      ,   0.      ,   1.      ],\n",
        "       [  3.      ,  26.      ,   0.      ,   0.      ,   7.8875  ,\n",
        "          1.      ,   0.      ,   0.      ,   0.      ,   1.      ],\n",
        "       [  3.      ,  39.      ,   0.      ,   0.      ,  24.15    ,\n",
        "          1.      ,   0.      ,   0.      ,   0.      ,   1.      ],\n",
        "       [  2.      ,  35.      ,   0.      ,   0.      ,  10.5     ,\n",
        "          1.      ,   0.      ,   0.      ,   0.      ,   1.      ],\n",
        "       [  3.      ,   6.      ,   4.      ,   2.      ,  31.275   ,\n",
        "          0.      ,   0.      ,   0.      ,   0.      ,   1.      ],\n",
        "       [  3.      ,  30.5     ,   0.      ,   0.      ,   8.05    ,\n",
        "          1.      ,   0.      ,   0.      ,   0.      ,   1.      ],\n",
        "       [  1.      ,  29.699118,   0.      ,   0.      ,   0.      ,\n",
        "          1.      ,   1.      ,   0.      ,   0.      ,   1.      ],\n",
        "       [  3.      ,  23.      ,   0.      ,   0.      ,   7.925   ,\n",
        "          0.      ,   0.      ,   0.      ,   0.      ,   1.      ],\n",
        "       [  2.      ,  31.      ,   1.      ,   1.      ,  37.0042  ,\n",
        "          1.      ,   0.      ,   1.      ,   0.      ,   0.      ],\n",
        "       [  3.      ,  43.      ,   0.      ,   0.      ,   6.45    ,\n",
        "          1.      ,   0.      ,   0.      ,   0.      ,   1.      ],\n",
        "       [  3.      ,  10.      ,   3.      ,   2.      ,  27.9     ,\n",
        "          1.      ,   0.      ,   0.      ,   0.      ,   1.      ],\n",
        "       [  1.      ,  52.      ,   1.      ,   1.      ,  93.5     ,\n",
        "          0.      ,   0.      ,   0.      ,   0.      ,   1.      ],\n",
        "       [  3.      ,  27.      ,   0.      ,   0.      ,   8.6625  ,\n",
        "          1.      ,   0.      ,   0.      ,   0.      ,   1.      ],\n",
        "       [  1.      ,  38.      ,   0.      ,   0.      ,   0.      ,\n",
        "          1.      ,   0.      ,   0.      ,   0.      ,   1.      ],\n",
        "       [  3.      ,  27.      ,   0.      ,   1.      ,  12.475   ,\n",
        "          0.      ,   0.      ,   0.      ,   0.      ,   1.      ],\n",
        "       [  3.      ,   2.      ,   4.      ,   1.      ,  39.6875  ,\n",
        "          1.      ,   0.      ,   0.      ,   0.      ,   1.      ],\n",
        "       [  3.      ,  29.699118,   0.      ,   0.      ,   6.95    ,\n",
        "          1.      ,   1.      ,   0.      ,   1.      ,   0.      ],\n",
        "       [  3.      ,  29.699118,   0.      ,   0.      ,  56.4958  ,\n",
        "          1.      ,   1.      ,   0.      ,   0.      ,   1.      ],\n",
        "       [  2.      ,   1.      ,   0.      ,   2.      ,  37.0042  ,\n",
        "          1.      ,   0.      ,   1.      ,   0.      ,   0.      ],\n",
        "       [  3.      ,  29.699118,   0.      ,   0.      ,   7.75    ,\n",
        "          1.      ,   1.      ,   0.      ,   1.      ,   0.      ],\n",
        "       [  1.      ,  62.      ,   0.      ,   0.      ,  80.      ,\n",
        "          0.      ,   0.      ,   0.      ,   0.      ,   0.      ],\n",
        "       [  3.      ,  15.      ,   1.      ,   0.      ,  14.4542  ,\n",
        "          0.      ,   0.      ,   1.      ,   0.      ,   0.      ],\n",
        "       [  2.      ,   0.83    ,   1.      ,   1.      ,  18.75    ,\n",
        "          1.      ,   0.      ,   0.      ,   0.      ,   1.      ],\n",
        "       [  3.      ,  29.699118,   0.      ,   0.      ,   7.2292  ,\n",
        "          1.      ,   1.      ,   1.      ,   0.      ,   0.      ],\n",
        "       [  3.      ,  23.      ,   0.      ,   0.      ,   7.8542  ,\n",
        "          1.      ,   0.      ,   0.      ,   0.      ,   1.      ],\n",
        "       [  3.      ,  18.      ,   0.      ,   0.      ,   8.3     ,\n",
        "          1.      ,   0.      ,   0.      ,   0.      ,   1.      ],\n",
        "       [  1.      ,  39.      ,   1.      ,   1.      ,  83.1583  ,\n",
        "          0.      ,   0.      ,   1.      ,   0.      ,   0.      ],\n",
        "       [  3.      ,  21.      ,   0.      ,   0.      ,   8.6625  ,\n",
        "          1.      ,   0.      ,   0.      ,   0.      ,   1.      ],\n",
        "       [  3.      ,  29.699118,   0.      ,   0.      ,   8.05    ,\n",
        "          1.      ,   1.      ,   0.      ,   0.      ,   1.      ],\n",
        "       [  3.      ,  32.      ,   0.      ,   0.      ,  56.4958  ,\n",
        "          1.      ,   0.      ,   0.      ,   0.      ,   1.      ],\n",
        "       [  1.      ,  29.699118,   0.      ,   0.      ,  29.7     ,\n",
        "          1.      ,   1.      ,   1.      ,   0.      ,   0.      ],\n",
        "       [  3.      ,  20.      ,   0.      ,   0.      ,   7.925   ,\n",
        "          1.      ,   0.      ,   0.      ,   0.      ,   1.      ],\n",
        "       [  2.      ,  16.      ,   0.      ,   0.      ,  10.5     ,\n",
        "          1.      ,   0.      ,   0.      ,   0.      ,   1.      ],\n",
        "       [  1.      ,  30.      ,   0.      ,   0.      ,  31.      ,\n",
        "          0.      ,   0.      ,   1.      ,   0.      ,   0.      ],\n",
        "       [  3.      ,  34.5     ,   0.      ,   0.      ,   6.4375  ,\n",
        "          1.      ,   0.      ,   1.      ,   0.      ,   0.      ],\n",
        "       [  3.      ,  17.      ,   0.      ,   0.      ,   8.6625  ,\n",
        "          1.      ,   0.      ,   0.      ,   0.      ,   1.      ],\n",
        "       [  3.      ,  42.      ,   0.      ,   0.      ,   7.55    ,\n",
        "          1.      ,   0.      ,   0.      ,   0.      ,   1.      ],\n",
        "       [  3.      ,  29.699118,   8.      ,   2.      ,  69.55    ,\n",
        "          1.      ,   1.      ,   0.      ,   0.      ,   1.      ],\n",
        "       [  3.      ,  35.      ,   0.      ,   0.      ,   7.8958  ,\n",
        "          1.      ,   0.      ,   1.      ,   0.      ,   0.      ],\n",
        "       [  2.      ,  28.      ,   0.      ,   1.      ,  33.      ,\n",
        "          1.      ,   0.      ,   0.      ,   0.      ,   1.      ],\n",
        "       [  1.      ,  29.699118,   1.      ,   0.      ,  89.1042  ,\n",
        "          0.      ,   1.      ,   1.      ,   0.      ,   0.      ],\n",
        "       [  3.      ,   4.      ,   4.      ,   2.      ,  31.275   ,\n",
        "          1.      ,   0.      ,   0.      ,   0.      ,   1.      ],\n",
        "       [  3.      ,  74.      ,   0.      ,   0.      ,   7.775   ,\n",
        "          1.      ,   0.      ,   0.      ,   0.      ,   1.      ],\n",
        "       [  3.      ,   9.      ,   1.      ,   1.      ,  15.2458  ,\n",
        "          0.      ,   0.      ,   1.      ,   0.      ,   0.      ],\n",
        "       [  1.      ,  16.      ,   0.      ,   1.      ,  39.4     ,\n",
        "          0.      ,   0.      ,   0.      ,   0.      ,   1.      ],\n",
        "       [  2.      ,  44.      ,   1.      ,   0.      ,  26.      ,\n",
        "          0.      ,   0.      ,   0.      ,   0.      ,   1.      ],\n",
        "       [  3.      ,  18.      ,   0.      ,   1.      ,   9.35    ,\n",
        "          0.      ,   0.      ,   0.      ,   0.      ,   1.      ],\n",
        "       [  1.      ,  45.      ,   1.      ,   1.      , 164.8667  ,\n",
        "          0.      ,   0.      ,   0.      ,   0.      ,   1.      ],\n",
        "       [  1.      ,  51.      ,   0.      ,   0.      ,  26.55    ,\n",
        "          1.      ,   0.      ,   0.      ,   0.      ,   1.      ],\n",
        "       [  3.      ,  24.      ,   0.      ,   3.      ,  19.2583  ,\n",
        "          0.      ,   0.      ,   1.      ,   0.      ,   0.      ],\n",
        "       [  3.      ,  29.699118,   0.      ,   0.      ,   7.2292  ,\n",
        "          1.      ,   1.      ,   1.      ,   0.      ,   0.      ],\n",
        "       [  3.      ,  41.      ,   2.      ,   0.      ,  14.1083  ,\n",
        "          1.      ,   0.      ,   0.      ,   0.      ,   1.      ],\n",
        "       [  2.      ,  21.      ,   1.      ,   0.      ,  11.5     ,\n",
        "          1.      ,   0.      ,   0.      ,   0.      ,   1.      ],\n",
        "       [  1.      ,  48.      ,   0.      ,   0.      ,  25.9292  ,\n",
        "          0.      ,   0.      ,   0.      ,   0.      ,   1.      ],\n",
        "       [  3.      ,  29.699118,   8.      ,   2.      ,  69.55    ,\n",
        "          0.      ,   1.      ,   0.      ,   0.      ,   1.      ],\n",
        "       [  2.      ,  24.      ,   0.      ,   0.      ,  13.      ,\n",
        "          1.      ,   0.      ,   0.      ,   0.      ,   1.      ],\n",
        "       [  2.      ,  42.      ,   0.      ,   0.      ,  13.      ,\n",
        "          0.      ,   0.      ,   0.      ,   0.      ,   1.      ],\n",
        "       [  2.      ,  27.      ,   1.      ,   0.      ,  13.8583  ,\n",
        "          0.      ,   0.      ,   1.      ,   0.      ,   0.      ],\n",
        "       [  1.      ,  31.      ,   0.      ,   0.      ,  50.4958  ,\n",
        "          1.      ,   0.      ,   0.      ,   0.      ,   1.      ],\n",
        "       [  3.      ,  29.699118,   0.      ,   0.      ,   9.5     ,\n",
        "          1.      ,   1.      ,   0.      ,   0.      ,   1.      ],\n",
        "       [  3.      ,   4.      ,   1.      ,   1.      ,  11.1333  ,\n",
        "          1.      ,   0.      ,   0.      ,   0.      ,   1.      ],\n",
        "       [  3.      ,  26.      ,   0.      ,   0.      ,   7.8958  ,\n",
        "          1.      ,   0.      ,   0.      ,   0.      ,   1.      ],\n",
        "       [  1.      ,  47.      ,   1.      ,   1.      ,  52.5542  ,\n",
        "          0.      ,   0.      ,   0.      ,   0.      ,   1.      ],\n",
        "       [  1.      ,  33.      ,   0.      ,   0.      ,   5.      ,\n",
        "          1.      ,   0.      ,   0.      ,   0.      ,   1.      ],\n",
        "       [  3.      ,  47.      ,   0.      ,   0.      ,   9.      ,\n",
        "          1.      ,   0.      ,   0.      ,   0.      ,   1.      ],\n",
        "       [  2.      ,  28.      ,   1.      ,   0.      ,  24.      ,\n",
        "          0.      ,   0.      ,   1.      ,   0.      ,   0.      ],\n",
        "       [  3.      ,  15.      ,   0.      ,   0.      ,   7.225   ,\n",
        "          0.      ,   0.      ,   1.      ,   0.      ,   0.      ],\n",
        "       [  3.      ,  20.      ,   0.      ,   0.      ,   9.8458  ,\n",
        "          1.      ,   0.      ,   0.      ,   0.      ,   1.      ],\n",
        "       [  3.      ,  19.      ,   0.      ,   0.      ,   7.8958  ,\n",
        "          1.      ,   0.      ,   0.      ,   0.      ,   1.      ],\n",
        "       [  3.      ,  29.699118,   0.      ,   0.      ,   7.8958  ,\n",
        "          1.      ,   1.      ,   0.      ,   0.      ,   1.      ],\n",
        "       [  1.      ,  56.      ,   0.      ,   1.      ,  83.1583  ,\n",
        "          0.      ,   0.      ,   1.      ,   0.      ,   0.      ],\n",
        "       [  2.      ,  25.      ,   0.      ,   1.      ,  26.      ,\n",
        "          0.      ,   0.      ,   0.      ,   0.      ,   1.      ],\n",
        "       [  3.      ,  33.      ,   0.      ,   0.      ,   7.8958  ,\n",
        "          1.      ,   0.      ,   0.      ,   0.      ,   1.      ],\n",
        "       [  3.      ,  22.      ,   0.      ,   0.      ,  10.5167  ,\n",
        "          0.      ,   0.      ,   0.      ,   0.      ,   1.      ],\n",
        "       [  2.      ,  28.      ,   0.      ,   0.      ,  10.5     ,\n",
        "          1.      ,   0.      ,   0.      ,   0.      ,   1.      ],\n",
        "       [  3.      ,  25.      ,   0.      ,   0.      ,   7.05    ,\n",
        "          1.      ,   0.      ,   0.      ,   0.      ,   1.      ],\n",
        "       [  3.      ,  39.      ,   0.      ,   5.      ,  29.125   ,\n",
        "          0.      ,   0.      ,   0.      ,   1.      ,   0.      ],\n",
        "       [  2.      ,  27.      ,   0.      ,   0.      ,  13.      ,\n",
        "          1.      ,   0.      ,   0.      ,   0.      ,   1.      ],\n",
        "       [  1.      ,  19.      ,   0.      ,   0.      ,  30.      ,\n",
        "          0.      ,   0.      ,   0.      ,   0.      ,   1.      ],\n",
        "       [  3.      ,  29.699118,   1.      ,   2.      ,  23.45    ,\n",
        "          0.      ,   1.      ,   0.      ,   0.      ,   1.      ],\n",
        "       [  1.      ,  26.      ,   0.      ,   0.      ,  30.      ,\n",
        "          1.      ,   0.      ,   1.      ,   0.      ,   0.      ],\n",
        "       [  3.      ,  32.      ,   0.      ,   0.      ,   7.75    ,\n",
        "          1.      ,   0.      ,   0.      ,   1.      ,   0.      ]]).astype('float32')"
      ],
      "metadata": {
        "id": "hM8nhteWr-uR"
      },
      "execution_count": 42,
      "outputs": []
    },
    {
      "cell_type": "code",
      "source": [
        "# Specify, compile, and fit the model\n",
        "model = Sequential()\n",
        "model.add(Dense(32, activation='relu', input_shape = (n_cols,)))\n",
        "model.add(Dense(2, activation='softmax'))\n",
        "model.compile(optimizer='sgd', \n",
        "              loss='categorical_crossentropy', \n",
        "              metrics=['accuracy'])\n",
        "model.fit(predictors, target)\n",
        "\n",
        "# Calculate predictions: predictions\n",
        "predictions = model.predict(pred_data)\n",
        "\n",
        "# Calculate predicted probability of survival: predicted_prob_true\n",
        "predicted_prob_true = predictions[:,1]\n",
        "\n",
        "# Print predicted_prob_true\n",
        "print(predicted_prob_true)"
      ],
      "metadata": {
        "id": "KeSKDQMYsiCQ",
        "outputId": "a8a87ec1-f40d-4f1d-afd2-ef9c92bc968e",
        "colab": {
          "base_uri": "https://localhost:8080/"
        }
      },
      "execution_count": 44,
      "outputs": [
        {
          "output_type": "stream",
          "name": "stdout",
          "text": [
            "28/28 [==============================] - 1s 3ms/step - loss: 2.2616 - accuracy: 0.6162\n",
            "3/3 [==============================] - 0s 6ms/step\n",
            "[0.25776517 0.5598244  0.99898636 0.56609964 0.19446054 0.1669016\n",
            " 0.07662229 0.31684005 0.19315106 0.7593366  0.22178854 0.43375894\n",
            " 0.19104987 0.79087204 0.17504667 0.13413589 0.24360824 0.53212345\n",
            " 0.07901596 0.6038097  0.8932436  0.2248372  0.08097785 0.3150764\n",
            " 0.9174113  0.17184062 0.7315318  0.85608566 0.18183057 0.8031789\n",
            " 0.48940924 0.7517979  0.18380037 0.25983316 0.35073644 0.9024504\n",
            " 0.3092533  0.19221678 0.68711185 0.6522053  0.30551666 0.50018674\n",
            " 0.6259152  0.12669167 0.38275266 0.09110543 0.8293969  0.14139846\n",
            " 0.55501896 0.968451   0.8039689  0.01426471 0.46266502 0.7663567\n",
            " 0.37915036 0.3771019  0.99930733 0.35835204 0.49635947 0.18380037\n",
            " 0.14471859 0.41002116 0.37386808 0.8555239  0.43079597 0.15102108\n",
            " 0.3498265  0.71699965 0.21784985 0.5621215  0.22194041 0.67414016\n",
            " 0.1651339  0.07714572 0.5383697  0.35585648 0.35983709 0.32110927\n",
            " 0.18963073 0.80174243 0.5883888  0.15190029 0.32999465 0.2844419\n",
            " 0.21825908 0.4853769  0.37411922 0.6552218  0.5352881  0.59039164\n",
            " 0.15521348]\n"
          ]
        }
      ]
    },
    {
      "cell_type": "code",
      "source": [],
      "metadata": {
        "id": "hDWPpMcus7eb"
      },
      "execution_count": null,
      "outputs": []
    }
  ],
  "metadata": {
    "kernelspec": {
      "display_name": "py",
      "language": "python",
      "name": "python3"
    },
    "language_info": {
      "codemirror_mode": {
        "name": "ipython",
        "version": 3
      },
      "file_extension": ".py",
      "mimetype": "text/x-python",
      "name": "python",
      "nbconvert_exporter": "python",
      "pygments_lexer": "ipython3",
      "version": "3.9.15"
    },
    "orig_nbformat": 4,
    "vscode": {
      "interpreter": {
        "hash": "e5ec2996c563c234ac14e94a9194176f4b4a65942ae41358f6d1676f83052ec2"
      }
    },
    "colab": {
      "provenance": []
    }
  },
  "nbformat": 4,
  "nbformat_minor": 0
}